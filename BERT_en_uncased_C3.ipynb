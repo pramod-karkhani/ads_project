{
  "nbformat": 4,
  "nbformat_minor": 0,
  "metadata": {
    "colab": {
      "provenance": []
    },
    "kernelspec": {
      "name": "python3",
      "display_name": "Python 3"
    },
    "language_info": {
      "name": "python"
    },
    "accelerator": "GPU",
    "gpuClass": "standard"
  },
  "cells": [
    {
      "cell_type": "code",
      "source": [
        "!pip -q install tensorflow_text"
      ],
      "metadata": {
        "colab": {
          "base_uri": "https://localhost:8080/"
        },
        "id": "caEx50BD8Qm_",
        "outputId": "a400e008-4bf9-481d-fa19-d06f10743214"
      },
      "execution_count": 1,
      "outputs": [
        {
          "output_type": "stream",
          "name": "stdout",
          "text": [
            "\u001b[?25l     \u001b[90m━━━━━━━━━━━━━━━━━━━━━━━━━━━━━━━━━━━━━━━━\u001b[0m \u001b[32m0.0/6.0 MB\u001b[0m \u001b[31m?\u001b[0m eta \u001b[36m-:--:--\u001b[0m\r\u001b[2K     \u001b[91m━━━━━━━━━━━━━━━━━━\u001b[0m\u001b[90m╺\u001b[0m\u001b[90m━━━━━━━━━━━━━━━━━━━━━\u001b[0m \u001b[32m2.8/6.0 MB\u001b[0m \u001b[31m88.1 MB/s\u001b[0m eta \u001b[36m0:00:01\u001b[0m\r\u001b[2K     \u001b[91m━━━━━━━━━━━━━━━━━━━━━━━━━━━━━━━━━━━━━━━\u001b[0m\u001b[91m╸\u001b[0m \u001b[32m6.0/6.0 MB\u001b[0m \u001b[31m109.7 MB/s\u001b[0m eta \u001b[36m0:00:01\u001b[0m\r\u001b[2K     \u001b[90m━━━━━━━━━━━━━━━━━━━━━━━━━━━━━━━━━━━━━━━━\u001b[0m \u001b[32m6.0/6.0 MB\u001b[0m \u001b[31m62.2 MB/s\u001b[0m eta \u001b[36m0:00:00\u001b[0m\n",
            "\u001b[?25h"
          ]
        }
      ]
    },
    {
      "cell_type": "code",
      "execution_count": 2,
      "metadata": {
        "id": "xVV7mqQh6KWz"
      },
      "outputs": [],
      "source": [
        "import tensorflow as tf\n",
        "import tensorflow_hub as hub\n",
        "import tensorflow_text as text\n",
        "\n",
        "from sklearn.model_selection import train_test_split\n",
        "from sklearn.metrics import accuracy_score, recall_score, precision_score, f1_score"
      ]
    },
    {
      "cell_type": "code",
      "source": [
        "import pandas as pd\n",
        "\n",
        "df = pd.read_csv(\"/content/c_final - Sheet1.csv\")\n",
        "df.head(5)"
      ],
      "metadata": {
        "colab": {
          "base_uri": "https://localhost:8080/",
          "height": 206
        },
        "id": "aFSPSwKA6mhj",
        "outputId": "c26b216a-7e2d-4bd9-a1f4-23d6196ca761"
      },
      "execution_count": 5,
      "outputs": [
        {
          "output_type": "execute_result",
          "data": {
            "text/plain": [
              "   Label                                            Comment\n",
              "0    0.0  I had an accident with an Uber driver in Mexic...\n",
              "1    1.0  I have had my account completely hacked to whe...\n",
              "2    1.0  I requested an 8 mile ride in Boston on a Satu...\n",
              "3    1.0  Uber is overcharging for Toll fees. When In Fl...\n",
              "4    1.0  I had an airport flight today. Uber would not ..."
            ],
            "text/html": [
              "\n",
              "  <div id=\"df-a8f0612d-c263-46c5-803f-8f0605f0df51\">\n",
              "    <div class=\"colab-df-container\">\n",
              "      <div>\n",
              "<style scoped>\n",
              "    .dataframe tbody tr th:only-of-type {\n",
              "        vertical-align: middle;\n",
              "    }\n",
              "\n",
              "    .dataframe tbody tr th {\n",
              "        vertical-align: top;\n",
              "    }\n",
              "\n",
              "    .dataframe thead th {\n",
              "        text-align: right;\n",
              "    }\n",
              "</style>\n",
              "<table border=\"1\" class=\"dataframe\">\n",
              "  <thead>\n",
              "    <tr style=\"text-align: right;\">\n",
              "      <th></th>\n",
              "      <th>Label</th>\n",
              "      <th>Comment</th>\n",
              "    </tr>\n",
              "  </thead>\n",
              "  <tbody>\n",
              "    <tr>\n",
              "      <th>0</th>\n",
              "      <td>0.0</td>\n",
              "      <td>I had an accident with an Uber driver in Mexic...</td>\n",
              "    </tr>\n",
              "    <tr>\n",
              "      <th>1</th>\n",
              "      <td>1.0</td>\n",
              "      <td>I have had my account completely hacked to whe...</td>\n",
              "    </tr>\n",
              "    <tr>\n",
              "      <th>2</th>\n",
              "      <td>1.0</td>\n",
              "      <td>I requested an 8 mile ride in Boston on a Satu...</td>\n",
              "    </tr>\n",
              "    <tr>\n",
              "      <th>3</th>\n",
              "      <td>1.0</td>\n",
              "      <td>Uber is overcharging for Toll fees. When In Fl...</td>\n",
              "    </tr>\n",
              "    <tr>\n",
              "      <th>4</th>\n",
              "      <td>1.0</td>\n",
              "      <td>I had an airport flight today. Uber would not ...</td>\n",
              "    </tr>\n",
              "  </tbody>\n",
              "</table>\n",
              "</div>\n",
              "      <button class=\"colab-df-convert\" onclick=\"convertToInteractive('df-a8f0612d-c263-46c5-803f-8f0605f0df51')\"\n",
              "              title=\"Convert this dataframe to an interactive table.\"\n",
              "              style=\"display:none;\">\n",
              "        \n",
              "  <svg xmlns=\"http://www.w3.org/2000/svg\" height=\"24px\"viewBox=\"0 0 24 24\"\n",
              "       width=\"24px\">\n",
              "    <path d=\"M0 0h24v24H0V0z\" fill=\"none\"/>\n",
              "    <path d=\"M18.56 5.44l.94 2.06.94-2.06 2.06-.94-2.06-.94-.94-2.06-.94 2.06-2.06.94zm-11 1L8.5 8.5l.94-2.06 2.06-.94-2.06-.94L8.5 2.5l-.94 2.06-2.06.94zm10 10l.94 2.06.94-2.06 2.06-.94-2.06-.94-.94-2.06-.94 2.06-2.06.94z\"/><path d=\"M17.41 7.96l-1.37-1.37c-.4-.4-.92-.59-1.43-.59-.52 0-1.04.2-1.43.59L10.3 9.45l-7.72 7.72c-.78.78-.78 2.05 0 2.83L4 21.41c.39.39.9.59 1.41.59.51 0 1.02-.2 1.41-.59l7.78-7.78 2.81-2.81c.8-.78.8-2.07 0-2.86zM5.41 20L4 18.59l7.72-7.72 1.47 1.35L5.41 20z\"/>\n",
              "  </svg>\n",
              "      </button>\n",
              "      \n",
              "  <style>\n",
              "    .colab-df-container {\n",
              "      display:flex;\n",
              "      flex-wrap:wrap;\n",
              "      gap: 12px;\n",
              "    }\n",
              "\n",
              "    .colab-df-convert {\n",
              "      background-color: #E8F0FE;\n",
              "      border: none;\n",
              "      border-radius: 50%;\n",
              "      cursor: pointer;\n",
              "      display: none;\n",
              "      fill: #1967D2;\n",
              "      height: 32px;\n",
              "      padding: 0 0 0 0;\n",
              "      width: 32px;\n",
              "    }\n",
              "\n",
              "    .colab-df-convert:hover {\n",
              "      background-color: #E2EBFA;\n",
              "      box-shadow: 0px 1px 2px rgba(60, 64, 67, 0.3), 0px 1px 3px 1px rgba(60, 64, 67, 0.15);\n",
              "      fill: #174EA6;\n",
              "    }\n",
              "\n",
              "    [theme=dark] .colab-df-convert {\n",
              "      background-color: #3B4455;\n",
              "      fill: #D2E3FC;\n",
              "    }\n",
              "\n",
              "    [theme=dark] .colab-df-convert:hover {\n",
              "      background-color: #434B5C;\n",
              "      box-shadow: 0px 1px 3px 1px rgba(0, 0, 0, 0.15);\n",
              "      filter: drop-shadow(0px 1px 2px rgba(0, 0, 0, 0.3));\n",
              "      fill: #FFFFFF;\n",
              "    }\n",
              "  </style>\n",
              "\n",
              "      <script>\n",
              "        const buttonEl =\n",
              "          document.querySelector('#df-a8f0612d-c263-46c5-803f-8f0605f0df51 button.colab-df-convert');\n",
              "        buttonEl.style.display =\n",
              "          google.colab.kernel.accessAllowed ? 'block' : 'none';\n",
              "\n",
              "        async function convertToInteractive(key) {\n",
              "          const element = document.querySelector('#df-a8f0612d-c263-46c5-803f-8f0605f0df51');\n",
              "          const dataTable =\n",
              "            await google.colab.kernel.invokeFunction('convertToInteractive',\n",
              "                                                     [key], {});\n",
              "          if (!dataTable) return;\n",
              "\n",
              "          const docLinkHtml = 'Like what you see? Visit the ' +\n",
              "            '<a target=\"_blank\" href=https://colab.research.google.com/notebooks/data_table.ipynb>data table notebook</a>'\n",
              "            + ' to learn more about interactive tables.';\n",
              "          element.innerHTML = '';\n",
              "          dataTable['output_type'] = 'display_data';\n",
              "          await google.colab.output.renderOutput(dataTable, element);\n",
              "          const docLink = document.createElement('div');\n",
              "          docLink.innerHTML = docLinkHtml;\n",
              "          element.appendChild(docLink);\n",
              "        }\n",
              "      </script>\n",
              "    </div>\n",
              "  </div>\n",
              "  "
            ]
          },
          "metadata": {},
          "execution_count": 5
        }
      ]
    },
    {
      "cell_type": "code",
      "source": [
        "df.shape"
      ],
      "metadata": {
        "colab": {
          "base_uri": "https://localhost:8080/"
        },
        "id": "5G66qqiN639O",
        "outputId": "ad48c05f-3f3f-4c56-adee-a5f1a3398822"
      },
      "execution_count": 6,
      "outputs": [
        {
          "output_type": "execute_result",
          "data": {
            "text/plain": [
              "(1703, 2)"
            ]
          },
          "metadata": {},
          "execution_count": 6
        }
      ]
    },
    {
      "cell_type": "markdown",
      "source": [
        "**Data Cleaning**"
      ],
      "metadata": {
        "id": "dXGWMHmJ16MP"
      }
    },
    {
      "cell_type": "code",
      "source": [
        "df.isna().sum()"
      ],
      "metadata": {
        "colab": {
          "base_uri": "https://localhost:8080/"
        },
        "id": "0VJ3mMcR11-v",
        "outputId": "5a0d4fbb-4e2d-4aa7-a370-9bfaf1423866"
      },
      "execution_count": 7,
      "outputs": [
        {
          "output_type": "execute_result",
          "data": {
            "text/plain": [
              "Label      14\n",
              "Comment    12\n",
              "dtype: int64"
            ]
          },
          "metadata": {},
          "execution_count": 7
        }
      ]
    },
    {
      "cell_type": "code",
      "source": [
        "df.dtypes"
      ],
      "metadata": {
        "colab": {
          "base_uri": "https://localhost:8080/"
        },
        "id": "qo0qR_Af1hGO",
        "outputId": "93be77de-4a77-47e8-d727-2db0df471e21"
      },
      "execution_count": 8,
      "outputs": [
        {
          "output_type": "execute_result",
          "data": {
            "text/plain": [
              "Label      float64\n",
              "Comment     object\n",
              "dtype: object"
            ]
          },
          "metadata": {},
          "execution_count": 8
        }
      ]
    },
    {
      "cell_type": "code",
      "source": [
        "df[df[\"Label\"].isnull()]"
      ],
      "metadata": {
        "colab": {
          "base_uri": "https://localhost:8080/",
          "height": 488
        },
        "id": "3qSPUeQZ2Wgb",
        "outputId": "2cae950d-ea41-4db1-a167-5ab94f7c4a5c"
      },
      "execution_count": 9,
      "outputs": [
        {
          "output_type": "execute_result",
          "data": {
            "text/plain": [
              "     Label                                            Comment\n",
              "706    NaN                                                NaN\n",
              "707    NaN                                                NaN\n",
              "708    NaN                                                NaN\n",
              "709    NaN                                                NaN\n",
              "710    NaN                                                NaN\n",
              "711    NaN                                                NaN\n",
              "712    NaN                                                NaN\n",
              "713    NaN                                                NaN\n",
              "714    NaN                                                NaN\n",
              "715    NaN                                                NaN\n",
              "716    NaN                                                NaN\n",
              "717    NaN                                                NaN\n",
              "895    NaN  Let's be honest, who would mind paying couple ...\n",
              "934    NaN  A week ago I tried Uber (hotel near LAX). I wa..."
            ],
            "text/html": [
              "\n",
              "  <div id=\"df-c503c328-ee9d-4847-8883-040003f90e89\">\n",
              "    <div class=\"colab-df-container\">\n",
              "      <div>\n",
              "<style scoped>\n",
              "    .dataframe tbody tr th:only-of-type {\n",
              "        vertical-align: middle;\n",
              "    }\n",
              "\n",
              "    .dataframe tbody tr th {\n",
              "        vertical-align: top;\n",
              "    }\n",
              "\n",
              "    .dataframe thead th {\n",
              "        text-align: right;\n",
              "    }\n",
              "</style>\n",
              "<table border=\"1\" class=\"dataframe\">\n",
              "  <thead>\n",
              "    <tr style=\"text-align: right;\">\n",
              "      <th></th>\n",
              "      <th>Label</th>\n",
              "      <th>Comment</th>\n",
              "    </tr>\n",
              "  </thead>\n",
              "  <tbody>\n",
              "    <tr>\n",
              "      <th>706</th>\n",
              "      <td>NaN</td>\n",
              "      <td>NaN</td>\n",
              "    </tr>\n",
              "    <tr>\n",
              "      <th>707</th>\n",
              "      <td>NaN</td>\n",
              "      <td>NaN</td>\n",
              "    </tr>\n",
              "    <tr>\n",
              "      <th>708</th>\n",
              "      <td>NaN</td>\n",
              "      <td>NaN</td>\n",
              "    </tr>\n",
              "    <tr>\n",
              "      <th>709</th>\n",
              "      <td>NaN</td>\n",
              "      <td>NaN</td>\n",
              "    </tr>\n",
              "    <tr>\n",
              "      <th>710</th>\n",
              "      <td>NaN</td>\n",
              "      <td>NaN</td>\n",
              "    </tr>\n",
              "    <tr>\n",
              "      <th>711</th>\n",
              "      <td>NaN</td>\n",
              "      <td>NaN</td>\n",
              "    </tr>\n",
              "    <tr>\n",
              "      <th>712</th>\n",
              "      <td>NaN</td>\n",
              "      <td>NaN</td>\n",
              "    </tr>\n",
              "    <tr>\n",
              "      <th>713</th>\n",
              "      <td>NaN</td>\n",
              "      <td>NaN</td>\n",
              "    </tr>\n",
              "    <tr>\n",
              "      <th>714</th>\n",
              "      <td>NaN</td>\n",
              "      <td>NaN</td>\n",
              "    </tr>\n",
              "    <tr>\n",
              "      <th>715</th>\n",
              "      <td>NaN</td>\n",
              "      <td>NaN</td>\n",
              "    </tr>\n",
              "    <tr>\n",
              "      <th>716</th>\n",
              "      <td>NaN</td>\n",
              "      <td>NaN</td>\n",
              "    </tr>\n",
              "    <tr>\n",
              "      <th>717</th>\n",
              "      <td>NaN</td>\n",
              "      <td>NaN</td>\n",
              "    </tr>\n",
              "    <tr>\n",
              "      <th>895</th>\n",
              "      <td>NaN</td>\n",
              "      <td>Let's be honest, who would mind paying couple ...</td>\n",
              "    </tr>\n",
              "    <tr>\n",
              "      <th>934</th>\n",
              "      <td>NaN</td>\n",
              "      <td>A week ago I tried Uber (hotel near LAX). I wa...</td>\n",
              "    </tr>\n",
              "  </tbody>\n",
              "</table>\n",
              "</div>\n",
              "      <button class=\"colab-df-convert\" onclick=\"convertToInteractive('df-c503c328-ee9d-4847-8883-040003f90e89')\"\n",
              "              title=\"Convert this dataframe to an interactive table.\"\n",
              "              style=\"display:none;\">\n",
              "        \n",
              "  <svg xmlns=\"http://www.w3.org/2000/svg\" height=\"24px\"viewBox=\"0 0 24 24\"\n",
              "       width=\"24px\">\n",
              "    <path d=\"M0 0h24v24H0V0z\" fill=\"none\"/>\n",
              "    <path d=\"M18.56 5.44l.94 2.06.94-2.06 2.06-.94-2.06-.94-.94-2.06-.94 2.06-2.06.94zm-11 1L8.5 8.5l.94-2.06 2.06-.94-2.06-.94L8.5 2.5l-.94 2.06-2.06.94zm10 10l.94 2.06.94-2.06 2.06-.94-2.06-.94-.94-2.06-.94 2.06-2.06.94z\"/><path d=\"M17.41 7.96l-1.37-1.37c-.4-.4-.92-.59-1.43-.59-.52 0-1.04.2-1.43.59L10.3 9.45l-7.72 7.72c-.78.78-.78 2.05 0 2.83L4 21.41c.39.39.9.59 1.41.59.51 0 1.02-.2 1.41-.59l7.78-7.78 2.81-2.81c.8-.78.8-2.07 0-2.86zM5.41 20L4 18.59l7.72-7.72 1.47 1.35L5.41 20z\"/>\n",
              "  </svg>\n",
              "      </button>\n",
              "      \n",
              "  <style>\n",
              "    .colab-df-container {\n",
              "      display:flex;\n",
              "      flex-wrap:wrap;\n",
              "      gap: 12px;\n",
              "    }\n",
              "\n",
              "    .colab-df-convert {\n",
              "      background-color: #E8F0FE;\n",
              "      border: none;\n",
              "      border-radius: 50%;\n",
              "      cursor: pointer;\n",
              "      display: none;\n",
              "      fill: #1967D2;\n",
              "      height: 32px;\n",
              "      padding: 0 0 0 0;\n",
              "      width: 32px;\n",
              "    }\n",
              "\n",
              "    .colab-df-convert:hover {\n",
              "      background-color: #E2EBFA;\n",
              "      box-shadow: 0px 1px 2px rgba(60, 64, 67, 0.3), 0px 1px 3px 1px rgba(60, 64, 67, 0.15);\n",
              "      fill: #174EA6;\n",
              "    }\n",
              "\n",
              "    [theme=dark] .colab-df-convert {\n",
              "      background-color: #3B4455;\n",
              "      fill: #D2E3FC;\n",
              "    }\n",
              "\n",
              "    [theme=dark] .colab-df-convert:hover {\n",
              "      background-color: #434B5C;\n",
              "      box-shadow: 0px 1px 3px 1px rgba(0, 0, 0, 0.15);\n",
              "      filter: drop-shadow(0px 1px 2px rgba(0, 0, 0, 0.3));\n",
              "      fill: #FFFFFF;\n",
              "    }\n",
              "  </style>\n",
              "\n",
              "      <script>\n",
              "        const buttonEl =\n",
              "          document.querySelector('#df-c503c328-ee9d-4847-8883-040003f90e89 button.colab-df-convert');\n",
              "        buttonEl.style.display =\n",
              "          google.colab.kernel.accessAllowed ? 'block' : 'none';\n",
              "\n",
              "        async function convertToInteractive(key) {\n",
              "          const element = document.querySelector('#df-c503c328-ee9d-4847-8883-040003f90e89');\n",
              "          const dataTable =\n",
              "            await google.colab.kernel.invokeFunction('convertToInteractive',\n",
              "                                                     [key], {});\n",
              "          if (!dataTable) return;\n",
              "\n",
              "          const docLinkHtml = 'Like what you see? Visit the ' +\n",
              "            '<a target=\"_blank\" href=https://colab.research.google.com/notebooks/data_table.ipynb>data table notebook</a>'\n",
              "            + ' to learn more about interactive tables.';\n",
              "          element.innerHTML = '';\n",
              "          dataTable['output_type'] = 'display_data';\n",
              "          await google.colab.output.renderOutput(dataTable, element);\n",
              "          const docLink = document.createElement('div');\n",
              "          docLink.innerHTML = docLinkHtml;\n",
              "          element.appendChild(docLink);\n",
              "        }\n",
              "      </script>\n",
              "    </div>\n",
              "  </div>\n",
              "  "
            ]
          },
          "metadata": {},
          "execution_count": 9
        }
      ]
    },
    {
      "cell_type": "code",
      "source": [
        "df=df.dropna()\n",
        "df"
      ],
      "metadata": {
        "colab": {
          "base_uri": "https://localhost:8080/",
          "height": 424
        },
        "id": "b0IlqBIG2Jkp",
        "outputId": "bfc4cdcd-8b38-4c03-9919-39da37dae337"
      },
      "execution_count": 10,
      "outputs": [
        {
          "output_type": "execute_result",
          "data": {
            "text/plain": [
              "      Label                                            Comment\n",
              "0       0.0  I had an accident with an Uber driver in Mexic...\n",
              "1       1.0  I have had my account completely hacked to whe...\n",
              "2       1.0  I requested an 8 mile ride in Boston on a Satu...\n",
              "3       1.0  Uber is overcharging for Toll fees. When In Fl...\n",
              "4       1.0  I had an airport flight today. Uber would not ...\n",
              "...     ...                                                ...\n",
              "1698    1.0  I tried to log in to Uber. I have only one ema...\n",
              "1699    1.0  When I saw an ad online for the soon to be Ube...\n",
              "1700    1.0  As a driver I was assaulted by a couple guys. ...\n",
              "1701    1.0  I attempted to sign up as a driver about a mon...\n",
              "1702    1.0  They don't communicate and you can't contact t...\n",
              "\n",
              "[1689 rows x 2 columns]"
            ],
            "text/html": [
              "\n",
              "  <div id=\"df-4f49cdc5-0ec7-4ea3-b935-d6387410963b\">\n",
              "    <div class=\"colab-df-container\">\n",
              "      <div>\n",
              "<style scoped>\n",
              "    .dataframe tbody tr th:only-of-type {\n",
              "        vertical-align: middle;\n",
              "    }\n",
              "\n",
              "    .dataframe tbody tr th {\n",
              "        vertical-align: top;\n",
              "    }\n",
              "\n",
              "    .dataframe thead th {\n",
              "        text-align: right;\n",
              "    }\n",
              "</style>\n",
              "<table border=\"1\" class=\"dataframe\">\n",
              "  <thead>\n",
              "    <tr style=\"text-align: right;\">\n",
              "      <th></th>\n",
              "      <th>Label</th>\n",
              "      <th>Comment</th>\n",
              "    </tr>\n",
              "  </thead>\n",
              "  <tbody>\n",
              "    <tr>\n",
              "      <th>0</th>\n",
              "      <td>0.0</td>\n",
              "      <td>I had an accident with an Uber driver in Mexic...</td>\n",
              "    </tr>\n",
              "    <tr>\n",
              "      <th>1</th>\n",
              "      <td>1.0</td>\n",
              "      <td>I have had my account completely hacked to whe...</td>\n",
              "    </tr>\n",
              "    <tr>\n",
              "      <th>2</th>\n",
              "      <td>1.0</td>\n",
              "      <td>I requested an 8 mile ride in Boston on a Satu...</td>\n",
              "    </tr>\n",
              "    <tr>\n",
              "      <th>3</th>\n",
              "      <td>1.0</td>\n",
              "      <td>Uber is overcharging for Toll fees. When In Fl...</td>\n",
              "    </tr>\n",
              "    <tr>\n",
              "      <th>4</th>\n",
              "      <td>1.0</td>\n",
              "      <td>I had an airport flight today. Uber would not ...</td>\n",
              "    </tr>\n",
              "    <tr>\n",
              "      <th>...</th>\n",
              "      <td>...</td>\n",
              "      <td>...</td>\n",
              "    </tr>\n",
              "    <tr>\n",
              "      <th>1698</th>\n",
              "      <td>1.0</td>\n",
              "      <td>I tried to log in to Uber. I have only one ema...</td>\n",
              "    </tr>\n",
              "    <tr>\n",
              "      <th>1699</th>\n",
              "      <td>1.0</td>\n",
              "      <td>When I saw an ad online for the soon to be Ube...</td>\n",
              "    </tr>\n",
              "    <tr>\n",
              "      <th>1700</th>\n",
              "      <td>1.0</td>\n",
              "      <td>As a driver I was assaulted by a couple guys. ...</td>\n",
              "    </tr>\n",
              "    <tr>\n",
              "      <th>1701</th>\n",
              "      <td>1.0</td>\n",
              "      <td>I attempted to sign up as a driver about a mon...</td>\n",
              "    </tr>\n",
              "    <tr>\n",
              "      <th>1702</th>\n",
              "      <td>1.0</td>\n",
              "      <td>They don't communicate and you can't contact t...</td>\n",
              "    </tr>\n",
              "  </tbody>\n",
              "</table>\n",
              "<p>1689 rows × 2 columns</p>\n",
              "</div>\n",
              "      <button class=\"colab-df-convert\" onclick=\"convertToInteractive('df-4f49cdc5-0ec7-4ea3-b935-d6387410963b')\"\n",
              "              title=\"Convert this dataframe to an interactive table.\"\n",
              "              style=\"display:none;\">\n",
              "        \n",
              "  <svg xmlns=\"http://www.w3.org/2000/svg\" height=\"24px\"viewBox=\"0 0 24 24\"\n",
              "       width=\"24px\">\n",
              "    <path d=\"M0 0h24v24H0V0z\" fill=\"none\"/>\n",
              "    <path d=\"M18.56 5.44l.94 2.06.94-2.06 2.06-.94-2.06-.94-.94-2.06-.94 2.06-2.06.94zm-11 1L8.5 8.5l.94-2.06 2.06-.94-2.06-.94L8.5 2.5l-.94 2.06-2.06.94zm10 10l.94 2.06.94-2.06 2.06-.94-2.06-.94-.94-2.06-.94 2.06-2.06.94z\"/><path d=\"M17.41 7.96l-1.37-1.37c-.4-.4-.92-.59-1.43-.59-.52 0-1.04.2-1.43.59L10.3 9.45l-7.72 7.72c-.78.78-.78 2.05 0 2.83L4 21.41c.39.39.9.59 1.41.59.51 0 1.02-.2 1.41-.59l7.78-7.78 2.81-2.81c.8-.78.8-2.07 0-2.86zM5.41 20L4 18.59l7.72-7.72 1.47 1.35L5.41 20z\"/>\n",
              "  </svg>\n",
              "      </button>\n",
              "      \n",
              "  <style>\n",
              "    .colab-df-container {\n",
              "      display:flex;\n",
              "      flex-wrap:wrap;\n",
              "      gap: 12px;\n",
              "    }\n",
              "\n",
              "    .colab-df-convert {\n",
              "      background-color: #E8F0FE;\n",
              "      border: none;\n",
              "      border-radius: 50%;\n",
              "      cursor: pointer;\n",
              "      display: none;\n",
              "      fill: #1967D2;\n",
              "      height: 32px;\n",
              "      padding: 0 0 0 0;\n",
              "      width: 32px;\n",
              "    }\n",
              "\n",
              "    .colab-df-convert:hover {\n",
              "      background-color: #E2EBFA;\n",
              "      box-shadow: 0px 1px 2px rgba(60, 64, 67, 0.3), 0px 1px 3px 1px rgba(60, 64, 67, 0.15);\n",
              "      fill: #174EA6;\n",
              "    }\n",
              "\n",
              "    [theme=dark] .colab-df-convert {\n",
              "      background-color: #3B4455;\n",
              "      fill: #D2E3FC;\n",
              "    }\n",
              "\n",
              "    [theme=dark] .colab-df-convert:hover {\n",
              "      background-color: #434B5C;\n",
              "      box-shadow: 0px 1px 3px 1px rgba(0, 0, 0, 0.15);\n",
              "      filter: drop-shadow(0px 1px 2px rgba(0, 0, 0, 0.3));\n",
              "      fill: #FFFFFF;\n",
              "    }\n",
              "  </style>\n",
              "\n",
              "      <script>\n",
              "        const buttonEl =\n",
              "          document.querySelector('#df-4f49cdc5-0ec7-4ea3-b935-d6387410963b button.colab-df-convert');\n",
              "        buttonEl.style.display =\n",
              "          google.colab.kernel.accessAllowed ? 'block' : 'none';\n",
              "\n",
              "        async function convertToInteractive(key) {\n",
              "          const element = document.querySelector('#df-4f49cdc5-0ec7-4ea3-b935-d6387410963b');\n",
              "          const dataTable =\n",
              "            await google.colab.kernel.invokeFunction('convertToInteractive',\n",
              "                                                     [key], {});\n",
              "          if (!dataTable) return;\n",
              "\n",
              "          const docLinkHtml = 'Like what you see? Visit the ' +\n",
              "            '<a target=\"_blank\" href=https://colab.research.google.com/notebooks/data_table.ipynb>data table notebook</a>'\n",
              "            + ' to learn more about interactive tables.';\n",
              "          element.innerHTML = '';\n",
              "          dataTable['output_type'] = 'display_data';\n",
              "          await google.colab.output.renderOutput(dataTable, element);\n",
              "          const docLink = document.createElement('div');\n",
              "          docLink.innerHTML = docLinkHtml;\n",
              "          element.appendChild(docLink);\n",
              "        }\n",
              "      </script>\n",
              "    </div>\n",
              "  </div>\n",
              "  "
            ]
          },
          "metadata": {},
          "execution_count": 10
        }
      ]
    },
    {
      "cell_type": "code",
      "source": [
        "df[\"Label\"]=df[\"Label\"].astype(int)"
      ],
      "metadata": {
        "id": "lYbvjSgF1sh_"
      },
      "execution_count": 11,
      "outputs": []
    },
    {
      "cell_type": "code",
      "source": [
        "df.dtypes"
      ],
      "metadata": {
        "colab": {
          "base_uri": "https://localhost:8080/"
        },
        "id": "eCSx-_fh65bo",
        "outputId": "700bd29e-cef4-4a33-ca9c-ba58210c952d"
      },
      "execution_count": 12,
      "outputs": [
        {
          "output_type": "execute_result",
          "data": {
            "text/plain": [
              "Label       int64\n",
              "Comment    object\n",
              "dtype: object"
            ]
          },
          "metadata": {},
          "execution_count": 12
        }
      ]
    },
    {
      "cell_type": "code",
      "source": [
        "X_train, X_test, y_train, y_test = train_test_split(df['Comment'],df['Label'])"
      ],
      "metadata": {
        "id": "Htf-OsvL7B7A"
      },
      "execution_count": 13,
      "outputs": []
    },
    {
      "cell_type": "code",
      "source": [
        "# X_train.head(5)"
      ],
      "metadata": {
        "id": "WVrxtmgH7MJj"
      },
      "execution_count": 14,
      "outputs": []
    },
    {
      "cell_type": "code",
      "source": [
        "bert_preprocess = hub.KerasLayer(\"https://tfhub.dev/tensorflow/bert_en_uncased_preprocess/3\")\n",
        "bert_encoder = hub.KerasLayer(\"https://tfhub.dev/tensorflow/bert_en_uncased_L-12_H-768_A-12/4\")"
      ],
      "metadata": {
        "id": "M3weyNAE7Nws"
      },
      "execution_count": 15,
      "outputs": []
    },
    {
      "cell_type": "code",
      "source": [
        "# Bert layers\n",
        "text_input = tf.keras.layers.Input(shape=(), dtype=tf.string, name='text')\n",
        "preprocessed_text = bert_preprocess(text_input)\n",
        "outputs = bert_encoder(preprocessed_text)\n",
        "\n",
        "# Neural network layers\n",
        "l = tf.keras.layers.Dropout(0.1, name=\"dropout\")(outputs['pooled_output'])\n",
        "l = tf.keras.layers.Dense(1, activation='sigmoid', name=\"output\")(l)\n",
        "\n",
        "# Use inputs and outputs to construct a final model\n",
        "model = tf.keras.Model(inputs=[text_input], outputs = [l])"
      ],
      "metadata": {
        "id": "t5rDFE9Q7R6d"
      },
      "execution_count": 16,
      "outputs": []
    },
    {
      "cell_type": "code",
      "source": [
        "model.summary()"
      ],
      "metadata": {
        "colab": {
          "base_uri": "https://localhost:8080/"
        },
        "id": "HACz5g2i7eMI",
        "outputId": "aef222a3-6cfd-4799-fcf7-a81512e03672"
      },
      "execution_count": 17,
      "outputs": [
        {
          "output_type": "stream",
          "name": "stdout",
          "text": [
            "Model: \"model\"\n",
            "__________________________________________________________________________________________________\n",
            " Layer (type)                   Output Shape         Param #     Connected to                     \n",
            "==================================================================================================\n",
            " text (InputLayer)              [(None,)]            0           []                               \n",
            "                                                                                                  \n",
            " keras_layer (KerasLayer)       {'input_mask': (Non  0           ['text[0][0]']                   \n",
            "                                e, 128),                                                          \n",
            "                                 'input_type_ids':                                                \n",
            "                                (None, 128),                                                      \n",
            "                                 'input_word_ids':                                                \n",
            "                                (None, 128)}                                                      \n",
            "                                                                                                  \n",
            " keras_layer_1 (KerasLayer)     {'pooled_output': (  109482241   ['keras_layer[0][0]',            \n",
            "                                None, 768),                       'keras_layer[0][1]',            \n",
            "                                 'sequence_output':               'keras_layer[0][2]']            \n",
            "                                 (None, 128, 768),                                                \n",
            "                                 'default': (None,                                                \n",
            "                                768),                                                             \n",
            "                                 'encoder_outputs':                                               \n",
            "                                 [(None, 128, 768),                                               \n",
            "                                 (None, 128, 768),                                                \n",
            "                                 (None, 128, 768),                                                \n",
            "                                 (None, 128, 768),                                                \n",
            "                                 (None, 128, 768),                                                \n",
            "                                 (None, 128, 768),                                                \n",
            "                                 (None, 128, 768),                                                \n",
            "                                 (None, 128, 768),                                                \n",
            "                                 (None, 128, 768),                                                \n",
            "                                 (None, 128, 768),                                                \n",
            "                                 (None, 128, 768),                                                \n",
            "                                 (None, 128, 768)]}                                               \n",
            "                                                                                                  \n",
            " dropout (Dropout)              (None, 768)          0           ['keras_layer_1[0][13]']         \n",
            "                                                                                                  \n",
            " output (Dense)                 (None, 1)            769         ['dropout[0][0]']                \n",
            "                                                                                                  \n",
            "==================================================================================================\n",
            "Total params: 109,483,010\n",
            "Trainable params: 769\n",
            "Non-trainable params: 109,482,241\n",
            "__________________________________________________________________________________________________\n"
          ]
        }
      ]
    },
    {
      "cell_type": "code",
      "source": [
        "METRICS = [\n",
        "      tf.keras.metrics.BinaryAccuracy(name='accuracy'),\n",
        "      tf.keras.metrics.Precision(name='precision'),\n",
        "      tf.keras.metrics.Recall(name='recall')\n",
        "]\n",
        "\n",
        "model.compile(optimizer='adam',\n",
        "              loss='binary_crossentropy',\n",
        "              metrics=METRICS)\n"
      ],
      "metadata": {
        "id": "Y8A8kAZp7g46"
      },
      "execution_count": 21,
      "outputs": []
    },
    {
      "cell_type": "code",
      "source": [
        "model.fit(X_train, y_train, epochs=100)"
      ],
      "metadata": {
        "colab": {
          "base_uri": "https://localhost:8080/"
        },
        "id": "TmW3tVCs7kul",
        "outputId": "b822439c-25ca-49f6-af04-adb1c39f1d55"
      },
      "execution_count": 22,
      "outputs": [
        {
          "output_type": "stream",
          "name": "stdout",
          "text": [
            "Epoch 1/100\n",
            "40/40 [==============================] - 15s 320ms/step - loss: 0.7079 - accuracy: 0.5055 - precision: 0.4934 - recall: 0.4871\n",
            "Epoch 2/100\n",
            "40/40 [==============================] - 13s 325ms/step - loss: 0.7002 - accuracy: 0.5427 - precision: 0.5362 - recall: 0.4676\n",
            "Epoch 3/100\n",
            "40/40 [==============================] - 13s 337ms/step - loss: 0.6875 - accuracy: 0.5624 - precision: 0.5571 - recall: 0.5049\n",
            "Epoch 4/100\n",
            "40/40 [==============================] - 14s 340ms/step - loss: 0.6835 - accuracy: 0.5577 - precision: 0.5516 - recall: 0.5016\n",
            "Epoch 5/100\n",
            "40/40 [==============================] - 14s 357ms/step - loss: 0.6860 - accuracy: 0.5521 - precision: 0.5411 - recall: 0.5437\n",
            "Epoch 6/100\n",
            "40/40 [==============================] - 14s 353ms/step - loss: 0.6688 - accuracy: 0.5893 - precision: 0.5881 - recall: 0.5291\n",
            "Epoch 7/100\n",
            "40/40 [==============================] - 14s 346ms/step - loss: 0.6741 - accuracy: 0.5869 - precision: 0.5838 - recall: 0.5356\n",
            "Epoch 8/100\n",
            "40/40 [==============================] - 14s 343ms/step - loss: 0.6665 - accuracy: 0.5861 - precision: 0.5794 - recall: 0.5550\n",
            "Epoch 9/100\n",
            "40/40 [==============================] - 14s 342ms/step - loss: 0.6745 - accuracy: 0.5664 - precision: 0.5563 - recall: 0.5518\n",
            "Epoch 10/100\n",
            "40/40 [==============================] - 14s 341ms/step - loss: 0.6732 - accuracy: 0.5861 - precision: 0.5833 - recall: 0.5324\n",
            "Epoch 11/100\n",
            "40/40 [==============================] - 14s 345ms/step - loss: 0.6709 - accuracy: 0.5908 - precision: 0.5856 - recall: 0.5534\n",
            "Epoch 12/100\n",
            "40/40 [==============================] - 14s 349ms/step - loss: 0.6594 - accuracy: 0.6043 - precision: 0.5930 - recall: 0.6036\n",
            "Epoch 13/100\n",
            "40/40 [==============================] - 14s 352ms/step - loss: 0.6611 - accuracy: 0.6011 - precision: 0.5986 - recall: 0.5550\n",
            "Epoch 14/100\n",
            "40/40 [==============================] - 14s 345ms/step - loss: 0.6597 - accuracy: 0.6074 - precision: 0.6024 - recall: 0.5761\n",
            "Epoch 15/100\n",
            "40/40 [==============================] - 14s 344ms/step - loss: 0.6596 - accuracy: 0.5972 - precision: 0.5794 - recall: 0.6375\n",
            "Epoch 16/100\n",
            "40/40 [==============================] - 14s 345ms/step - loss: 0.6543 - accuracy: 0.6201 - precision: 0.6121 - recall: 0.6052\n",
            "Epoch 17/100\n",
            "40/40 [==============================] - 14s 344ms/step - loss: 0.6443 - accuracy: 0.6359 - precision: 0.6289 - recall: 0.6197\n",
            "Epoch 18/100\n",
            "40/40 [==============================] - 14s 347ms/step - loss: 0.6567 - accuracy: 0.6177 - precision: 0.6095 - recall: 0.6036\n",
            "Epoch 19/100\n",
            "40/40 [==============================] - 14s 345ms/step - loss: 0.6510 - accuracy: 0.6209 - precision: 0.6158 - recall: 0.5939\n",
            "Epoch 20/100\n",
            "40/40 [==============================] - 14s 345ms/step - loss: 0.6425 - accuracy: 0.6367 - precision: 0.6312 - recall: 0.6149\n",
            "Epoch 21/100\n",
            "40/40 [==============================] - 14s 346ms/step - loss: 0.6424 - accuracy: 0.6311 - precision: 0.6208 - recall: 0.6278\n",
            "Epoch 22/100\n",
            "40/40 [==============================] - 14s 346ms/step - loss: 0.6459 - accuracy: 0.6374 - precision: 0.6260 - recall: 0.6392\n",
            "Epoch 23/100\n",
            "40/40 [==============================] - 14s 348ms/step - loss: 0.6411 - accuracy: 0.6327 - precision: 0.6303 - recall: 0.5987\n",
            "Epoch 24/100\n",
            "40/40 [==============================] - 14s 347ms/step - loss: 0.6425 - accuracy: 0.6430 - precision: 0.6261 - recall: 0.6667\n",
            "Epoch 25/100\n",
            "40/40 [==============================] - 14s 345ms/step - loss: 0.6436 - accuracy: 0.6311 - precision: 0.6220 - recall: 0.6230\n",
            "Epoch 26/100\n",
            "40/40 [==============================] - 14s 345ms/step - loss: 0.6504 - accuracy: 0.6303 - precision: 0.6258 - recall: 0.6036\n",
            "Epoch 27/100\n",
            "40/40 [==============================] - 14s 343ms/step - loss: 0.6464 - accuracy: 0.6272 - precision: 0.6113 - recall: 0.6489\n",
            "Epoch 28/100\n",
            "40/40 [==============================] - 14s 347ms/step - loss: 0.6480 - accuracy: 0.6335 - precision: 0.6207 - recall: 0.6408\n",
            "Epoch 29/100\n",
            "40/40 [==============================] - 14s 351ms/step - loss: 0.6445 - accuracy: 0.6248 - precision: 0.6178 - recall: 0.6068\n",
            "Epoch 30/100\n",
            "40/40 [==============================] - 14s 353ms/step - loss: 0.6471 - accuracy: 0.6264 - precision: 0.6142 - recall: 0.6311\n",
            "Epoch 31/100\n",
            "40/40 [==============================] - 14s 346ms/step - loss: 0.6480 - accuracy: 0.6327 - precision: 0.6264 - recall: 0.6133\n",
            "Epoch 32/100\n",
            "40/40 [==============================] - 14s 343ms/step - loss: 0.6429 - accuracy: 0.6177 - precision: 0.6053 - recall: 0.6230\n",
            "Epoch 33/100\n",
            "40/40 [==============================] - 14s 345ms/step - loss: 0.6380 - accuracy: 0.6430 - precision: 0.6313 - recall: 0.6456\n",
            "Epoch 34/100\n",
            "40/40 [==============================] - 14s 344ms/step - loss: 0.6404 - accuracy: 0.6382 - precision: 0.6290 - recall: 0.6311\n",
            "Epoch 35/100\n",
            "40/40 [==============================] - 14s 345ms/step - loss: 0.6500 - accuracy: 0.6185 - precision: 0.6108 - recall: 0.6019\n",
            "Epoch 36/100\n",
            "40/40 [==============================] - 14s 349ms/step - loss: 0.6346 - accuracy: 0.6461 - precision: 0.6328 - recall: 0.6553\n",
            "Epoch 37/100\n",
            "40/40 [==============================] - 14s 347ms/step - loss: 0.6400 - accuracy: 0.6367 - precision: 0.6317 - recall: 0.6133\n",
            "Epoch 38/100\n",
            "40/40 [==============================] - 14s 344ms/step - loss: 0.6432 - accuracy: 0.6414 - precision: 0.6385 - recall: 0.6117\n",
            "Epoch 39/100\n",
            "40/40 [==============================] - 14s 341ms/step - loss: 0.6485 - accuracy: 0.6327 - precision: 0.6175 - recall: 0.6505\n",
            "Epoch 40/100\n",
            "40/40 [==============================] - 14s 346ms/step - loss: 0.6392 - accuracy: 0.6430 - precision: 0.6273 - recall: 0.6618\n",
            "Epoch 41/100\n",
            "40/40 [==============================] - 14s 344ms/step - loss: 0.6368 - accuracy: 0.6453 - precision: 0.6383 - recall: 0.6311\n",
            "Epoch 42/100\n",
            "40/40 [==============================] - 14s 345ms/step - loss: 0.6451 - accuracy: 0.6374 - precision: 0.6252 - recall: 0.6424\n",
            "Epoch 43/100\n",
            "40/40 [==============================] - 14s 345ms/step - loss: 0.6547 - accuracy: 0.6224 - precision: 0.6115 - recall: 0.6214\n",
            "Epoch 44/100\n",
            "40/40 [==============================] - 14s 350ms/step - loss: 0.6421 - accuracy: 0.6367 - precision: 0.6372 - recall: 0.5939\n",
            "Epoch 45/100\n",
            "40/40 [==============================] - 14s 349ms/step - loss: 0.6349 - accuracy: 0.6501 - precision: 0.6374 - recall: 0.6570\n",
            "Epoch 46/100\n",
            "40/40 [==============================] - 14s 347ms/step - loss: 0.6413 - accuracy: 0.6382 - precision: 0.6208 - recall: 0.6650\n",
            "Epoch 47/100\n",
            "40/40 [==============================] - 14s 348ms/step - loss: 0.6327 - accuracy: 0.6477 - precision: 0.6361 - recall: 0.6505\n",
            "Epoch 48/100\n",
            "40/40 [==============================] - 14s 352ms/step - loss: 0.6480 - accuracy: 0.6319 - precision: 0.6203 - recall: 0.6343\n",
            "Epoch 49/100\n",
            "40/40 [==============================] - 14s 346ms/step - loss: 0.6410 - accuracy: 0.6248 - precision: 0.6231 - recall: 0.5858\n",
            "Epoch 50/100\n",
            "40/40 [==============================] - 14s 343ms/step - loss: 0.6321 - accuracy: 0.6524 - precision: 0.6373 - recall: 0.6683\n",
            "Epoch 51/100\n",
            "40/40 [==============================] - 14s 351ms/step - loss: 0.6317 - accuracy: 0.6477 - precision: 0.6438 - recall: 0.6230\n",
            "Epoch 52/100\n",
            "40/40 [==============================] - 14s 351ms/step - loss: 0.6455 - accuracy: 0.6335 - precision: 0.6230 - recall: 0.6311\n",
            "Epoch 53/100\n",
            "40/40 [==============================] - 14s 344ms/step - loss: 0.6523 - accuracy: 0.6295 - precision: 0.6200 - recall: 0.6230\n",
            "Epoch 54/100\n",
            "40/40 [==============================] - 14s 344ms/step - loss: 0.6419 - accuracy: 0.6374 - precision: 0.6256 - recall: 0.6408\n",
            "Epoch 55/100\n",
            "40/40 [==============================] - 14s 344ms/step - loss: 0.6327 - accuracy: 0.6477 - precision: 0.6348 - recall: 0.6553\n",
            "Epoch 56/100\n",
            "40/40 [==============================] - 14s 344ms/step - loss: 0.6360 - accuracy: 0.6398 - precision: 0.6350 - recall: 0.6165\n",
            "Epoch 57/100\n",
            "40/40 [==============================] - 14s 345ms/step - loss: 0.6305 - accuracy: 0.6438 - precision: 0.6311 - recall: 0.6505\n",
            "Epoch 58/100\n",
            "40/40 [==============================] - 14s 344ms/step - loss: 0.6328 - accuracy: 0.6303 - precision: 0.6187 - recall: 0.6327\n",
            "Epoch 59/100\n",
            "40/40 [==============================] - 14s 350ms/step - loss: 0.6294 - accuracy: 0.6501 - precision: 0.6365 - recall: 0.6602\n",
            "Epoch 60/100\n",
            "40/40 [==============================] - 14s 344ms/step - loss: 0.6389 - accuracy: 0.6343 - precision: 0.6217 - recall: 0.6408\n",
            "Epoch 61/100\n",
            "40/40 [==============================] - 14s 345ms/step - loss: 0.6272 - accuracy: 0.6643 - precision: 0.6644 - recall: 0.6311\n",
            "Epoch 62/100\n",
            "40/40 [==============================] - 14s 343ms/step - loss: 0.6378 - accuracy: 0.6438 - precision: 0.6345 - recall: 0.6375\n",
            "Epoch 63/100\n",
            "40/40 [==============================] - 14s 345ms/step - loss: 0.6247 - accuracy: 0.6572 - precision: 0.6498 - recall: 0.6456\n",
            "Epoch 64/100\n",
            "40/40 [==============================] - 14s 347ms/step - loss: 0.6325 - accuracy: 0.6548 - precision: 0.6448 - recall: 0.6521\n",
            "Epoch 65/100\n",
            "40/40 [==============================] - 14s 350ms/step - loss: 0.6362 - accuracy: 0.6461 - precision: 0.6336 - recall: 0.6521\n",
            "Epoch 66/100\n",
            "40/40 [==============================] - 14s 343ms/step - loss: 0.6293 - accuracy: 0.6295 - precision: 0.6162 - recall: 0.6392\n",
            "Epoch 67/100\n",
            "40/40 [==============================] - 14s 351ms/step - loss: 0.6234 - accuracy: 0.6619 - precision: 0.6527 - recall: 0.6570\n",
            "Epoch 68/100\n",
            "40/40 [==============================] - 14s 348ms/step - loss: 0.6293 - accuracy: 0.6524 - precision: 0.6426 - recall: 0.6489\n",
            "Epoch 69/100\n",
            "40/40 [==============================] - 14s 343ms/step - loss: 0.6288 - accuracy: 0.6398 - precision: 0.6359 - recall: 0.6133\n",
            "Epoch 70/100\n",
            "40/40 [==============================] - 14s 345ms/step - loss: 0.6460 - accuracy: 0.6193 - precision: 0.6100 - recall: 0.6100\n",
            "Epoch 71/100\n",
            "40/40 [==============================] - 14s 343ms/step - loss: 0.6327 - accuracy: 0.6572 - precision: 0.6456 - recall: 0.6602\n",
            "Epoch 72/100\n",
            "40/40 [==============================] - 14s 345ms/step - loss: 0.6306 - accuracy: 0.6469 - precision: 0.6309 - recall: 0.6667\n",
            "Epoch 73/100\n",
            "40/40 [==============================] - 14s 346ms/step - loss: 0.6233 - accuracy: 0.6603 - precision: 0.6588 - recall: 0.6311\n",
            "Epoch 74/100\n",
            "40/40 [==============================] - 14s 346ms/step - loss: 0.6345 - accuracy: 0.6398 - precision: 0.6266 - recall: 0.6489\n",
            "Epoch 75/100\n",
            "40/40 [==============================] - 14s 348ms/step - loss: 0.6266 - accuracy: 0.6517 - precision: 0.6398 - recall: 0.6553\n",
            "Epoch 76/100\n",
            "40/40 [==============================] - 14s 344ms/step - loss: 0.6328 - accuracy: 0.6469 - precision: 0.6346 - recall: 0.6521\n",
            "Epoch 77/100\n",
            "40/40 [==============================] - 14s 345ms/step - loss: 0.6382 - accuracy: 0.6438 - precision: 0.6437 - recall: 0.6052\n",
            "Epoch 78/100\n",
            "40/40 [==============================] - 14s 344ms/step - loss: 0.6208 - accuracy: 0.6485 - precision: 0.6439 - recall: 0.6262\n",
            "Epoch 79/100\n",
            "40/40 [==============================] - 14s 344ms/step - loss: 0.6224 - accuracy: 0.6509 - precision: 0.6379 - recall: 0.6586\n",
            "Epoch 80/100\n",
            "40/40 [==============================] - 14s 347ms/step - loss: 0.6241 - accuracy: 0.6556 - precision: 0.6477 - recall: 0.6456\n",
            "Epoch 81/100\n",
            "40/40 [==============================] - 14s 343ms/step - loss: 0.6319 - accuracy: 0.6493 - precision: 0.6351 - recall: 0.6618\n",
            "Epoch 82/100\n",
            "40/40 [==============================] - 14s 349ms/step - loss: 0.6184 - accuracy: 0.6635 - precision: 0.6534 - recall: 0.6618\n",
            "Epoch 83/100\n",
            "40/40 [==============================] - 14s 353ms/step - loss: 0.6268 - accuracy: 0.6477 - precision: 0.6335 - recall: 0.6602\n",
            "Epoch 84/100\n",
            "40/40 [==============================] - 14s 346ms/step - loss: 0.6166 - accuracy: 0.6627 - precision: 0.6476 - recall: 0.6780\n",
            "Epoch 85/100\n",
            "40/40 [==============================] - 14s 344ms/step - loss: 0.6322 - accuracy: 0.6430 - precision: 0.6309 - recall: 0.6472\n",
            "Epoch 86/100\n",
            "40/40 [==============================] - 14s 346ms/step - loss: 0.6297 - accuracy: 0.6445 - precision: 0.6329 - recall: 0.6472\n",
            "Epoch 87/100\n",
            "40/40 [==============================] - 14s 346ms/step - loss: 0.6293 - accuracy: 0.6548 - precision: 0.6472 - recall: 0.6440\n",
            "Epoch 88/100\n",
            "40/40 [==============================] - 14s 348ms/step - loss: 0.6275 - accuracy: 0.6556 - precision: 0.6413 - recall: 0.6683\n",
            "Epoch 89/100\n",
            "40/40 [==============================] - 14s 344ms/step - loss: 0.6257 - accuracy: 0.6540 - precision: 0.6420 - recall: 0.6586\n",
            "Epoch 90/100\n",
            "40/40 [==============================] - 14s 350ms/step - loss: 0.6271 - accuracy: 0.6469 - precision: 0.6359 - recall: 0.6472\n",
            "Epoch 91/100\n",
            "40/40 [==============================] - 14s 347ms/step - loss: 0.6201 - accuracy: 0.6651 - precision: 0.6570 - recall: 0.6570\n",
            "Epoch 92/100\n",
            "40/40 [==============================] - 14s 344ms/step - loss: 0.6248 - accuracy: 0.6556 - precision: 0.6422 - recall: 0.6650\n",
            "Epoch 93/100\n",
            "40/40 [==============================] - 14s 344ms/step - loss: 0.6314 - accuracy: 0.6517 - precision: 0.6381 - recall: 0.6618\n",
            "Epoch 94/100\n",
            "40/40 [==============================] - 14s 344ms/step - loss: 0.6293 - accuracy: 0.6603 - precision: 0.6521 - recall: 0.6521\n",
            "Epoch 95/100\n",
            "40/40 [==============================] - 14s 344ms/step - loss: 0.6333 - accuracy: 0.6406 - precision: 0.6321 - recall: 0.6311\n",
            "Epoch 96/100\n",
            "40/40 [==============================] - 14s 346ms/step - loss: 0.6236 - accuracy: 0.6588 - precision: 0.6560 - recall: 0.6327\n",
            "Epoch 97/100\n",
            "40/40 [==============================] - 14s 346ms/step - loss: 0.6278 - accuracy: 0.6556 - precision: 0.6435 - recall: 0.6602\n",
            "Epoch 98/100\n",
            "40/40 [==============================] - 14s 349ms/step - loss: 0.6289 - accuracy: 0.6461 - precision: 0.6358 - recall: 0.6440\n",
            "Epoch 99/100\n",
            "40/40 [==============================] - 14s 346ms/step - loss: 0.6305 - accuracy: 0.6461 - precision: 0.6403 - recall: 0.6278\n",
            "Epoch 100/100\n",
            "40/40 [==============================] - 14s 351ms/step - loss: 0.6221 - accuracy: 0.6667 - precision: 0.6556 - recall: 0.6683\n"
          ]
        },
        {
          "output_type": "execute_result",
          "data": {
            "text/plain": [
              "<keras.callbacks.History at 0x7fc8b4c474f0>"
            ]
          },
          "metadata": {},
          "execution_count": 22
        }
      ]
    },
    {
      "cell_type": "code",
      "source": [
        "model.evaluate(X_test, y_test)"
      ],
      "metadata": {
        "colab": {
          "base_uri": "https://localhost:8080/"
        },
        "id": "_x-baPbp7nvJ",
        "outputId": "29f77f92-0080-46ed-9de1-db38e879392c"
      },
      "execution_count": 23,
      "outputs": [
        {
          "output_type": "stream",
          "name": "stdout",
          "text": [
            "14/14 [==============================] - 5s 309ms/step - loss: 0.6568 - accuracy: 0.6194 - precision: 0.5659 - recall: 0.6170\n"
          ]
        },
        {
          "output_type": "execute_result",
          "data": {
            "text/plain": [
              "[0.6568291783332825,\n",
              " 0.6193853616714478,\n",
              " 0.5658536553382874,\n",
              " 0.6170212626457214]"
            ]
          },
          "metadata": {},
          "execution_count": 23
        }
      ]
    },
    {
      "cell_type": "code",
      "source": [
        "y_predicted = model.predict(X_test)\n",
        "y_predicted = y_predicted.flatten()\n",
        "# y_predicted"
      ],
      "metadata": {
        "colab": {
          "base_uri": "https://localhost:8080/"
        },
        "id": "81ldyNLb751L",
        "outputId": "84599858-0ecf-4c33-f091-74cc57b6c826"
      },
      "execution_count": 24,
      "outputs": [
        {
          "output_type": "stream",
          "name": "stdout",
          "text": [
            "14/14 [==============================] - 5s 331ms/step\n"
          ]
        }
      ]
    },
    {
      "cell_type": "code",
      "source": [
        "import numpy as np\n",
        "\n",
        "y_predicted = np.where(y_predicted > 0.5, 1, 0)\n",
        "y_predicted"
      ],
      "metadata": {
        "colab": {
          "base_uri": "https://localhost:8080/"
        },
        "id": "KQ3b5zaF8HdY",
        "outputId": "f2a4c739-42a1-4c33-83b5-f3b8effad0b2"
      },
      "execution_count": 25,
      "outputs": [
        {
          "output_type": "execute_result",
          "data": {
            "text/plain": [
              "array([0, 1, 1, 0, 1, 0, 0, 0, 0, 0, 1, 0, 1, 0, 1, 0, 1, 1, 1, 0, 1, 1,\n",
              "       0, 1, 0, 0, 1, 0, 0, 1, 0, 0, 1, 1, 1, 0, 1, 1, 1, 0, 0, 1, 1, 0,\n",
              "       0, 1, 1, 0, 0, 0, 1, 0, 1, 0, 0, 1, 0, 1, 1, 1, 0, 1, 0, 0, 1, 1,\n",
              "       0, 0, 0, 1, 1, 1, 1, 0, 0, 0, 0, 1, 1, 0, 0, 1, 0, 1, 0, 1, 0, 0,\n",
              "       1, 0, 1, 0, 1, 0, 1, 1, 0, 1, 0, 1, 1, 1, 1, 1, 1, 0, 0, 0, 0, 0,\n",
              "       1, 0, 0, 1, 1, 1, 0, 0, 0, 1, 1, 1, 1, 1, 0, 0, 0, 0, 0, 0, 1, 1,\n",
              "       1, 1, 0, 0, 1, 1, 0, 0, 1, 0, 0, 1, 1, 1, 0, 0, 0, 0, 0, 1, 0, 0,\n",
              "       1, 0, 0, 0, 1, 1, 0, 0, 1, 1, 1, 1, 1, 1, 1, 0, 0, 0, 0, 0, 0, 0,\n",
              "       0, 1, 1, 1, 1, 1, 1, 1, 0, 0, 0, 1, 1, 1, 1, 0, 0, 1, 0, 0, 0, 0,\n",
              "       0, 0, 1, 0, 0, 0, 0, 1, 0, 0, 1, 0, 0, 1, 0, 0, 0, 0, 1, 1, 1, 1,\n",
              "       0, 1, 0, 0, 0, 1, 1, 1, 0, 0, 0, 1, 0, 1, 1, 0, 1, 1, 1, 1, 0, 1,\n",
              "       1, 1, 0, 1, 1, 0, 1, 0, 0, 1, 0, 0, 0, 0, 1, 1, 1, 0, 0, 1, 1, 0,\n",
              "       0, 0, 1, 0, 0, 0, 1, 1, 1, 1, 1, 0, 1, 0, 1, 1, 0, 0, 1, 1, 1, 0,\n",
              "       0, 0, 0, 1, 1, 1, 0, 1, 0, 1, 1, 0, 1, 1, 0, 0, 0, 0, 0, 0, 1, 1,\n",
              "       0, 1, 0, 1, 0, 1, 1, 1, 0, 1, 1, 0, 1, 0, 0, 1, 0, 0, 1, 1, 1, 1,\n",
              "       0, 0, 1, 1, 1, 1, 0, 1, 1, 0, 1, 0, 0, 1, 0, 1, 1, 1, 0, 0, 0, 0,\n",
              "       0, 0, 1, 1, 0, 0, 0, 1, 0, 0, 0, 0, 0, 1, 1, 0, 0, 1, 0, 0, 1, 0,\n",
              "       0, 0, 1, 1, 1, 0, 1, 1, 0, 0, 1, 0, 1, 1, 1, 1, 1, 1, 1, 0, 0, 0,\n",
              "       0, 0, 1, 0, 1, 0, 1, 1, 0, 1, 0, 0, 0, 1, 1, 0, 1, 0, 0, 1, 0, 0,\n",
              "       1, 1, 1, 0, 0])"
            ]
          },
          "metadata": {},
          "execution_count": 25
        }
      ]
    },
    {
      "cell_type": "code",
      "source": [
        "y_test"
      ],
      "metadata": {
        "id": "AhT-ugKW8XrW",
        "colab": {
          "base_uri": "https://localhost:8080/"
        },
        "outputId": "9e4f934d-579a-4edc-bdb3-0dd480a29c10"
      },
      "execution_count": 26,
      "outputs": [
        {
          "output_type": "execute_result",
          "data": {
            "text/plain": [
              "414     0\n",
              "250     1\n",
              "1645    0\n",
              "460     1\n",
              "1288    1\n",
              "       ..\n",
              "131     1\n",
              "703     0\n",
              "849     0\n",
              "626     0\n",
              "970     0\n",
              "Name: Label, Length: 423, dtype: int64"
            ]
          },
          "metadata": {},
          "execution_count": 26
        }
      ]
    },
    {
      "cell_type": "code",
      "source": [
        "print('Accuracy - ', accuracy_score(y_true=y_test, y_pred=y_predicted))\n",
        "print('Recall score -', recall_score(y_true=y_test, y_pred=y_predicted))\n",
        "print('Precision score - ', precision_score(y_true=y_test, y_pred=y_predicted))\n",
        "print('F1 score - ', f1_score(y_true=y_test, y_pred=y_predicted))"
      ],
      "metadata": {
        "colab": {
          "base_uri": "https://localhost:8080/"
        },
        "id": "wiGEf3Tr722k",
        "outputId": "aa6223ce-2380-4d8a-ab86-58d654764338"
      },
      "execution_count": 27,
      "outputs": [
        {
          "output_type": "stream",
          "name": "stdout",
          "text": [
            "Accuracy -  0.6193853427895981\n",
            "Recall score - 0.6170212765957447\n",
            "Precision score -  0.5658536585365853\n",
            "F1 score -  0.5903307888040712\n"
          ]
        }
      ]
    },
    {
      "cell_type": "code",
      "source": [
        "from sklearn.metrics import confusion_matrix, classification_report\n",
        "\n",
        "cm = confusion_matrix(y_test, y_predicted)\n",
        "cm "
      ],
      "metadata": {
        "colab": {
          "base_uri": "https://localhost:8080/"
        },
        "id": "4dn2F4yU8aQs",
        "outputId": "5c1a37ac-a428-4b59-dc2e-d59a3dbc6320"
      },
      "execution_count": 28,
      "outputs": [
        {
          "output_type": "execute_result",
          "data": {
            "text/plain": [
              "array([[146,  89],\n",
              "       [ 72, 116]])"
            ]
          },
          "metadata": {},
          "execution_count": 28
        }
      ]
    },
    {
      "cell_type": "code",
      "source": [
        "from matplotlib import pyplot as plt\n",
        "import seaborn as sn\n",
        "sn.heatmap(cm, annot=True, fmt='d')\n",
        "plt.xlabel('Predicted')\n",
        "plt.ylabel('Truth')"
      ],
      "metadata": {
        "colab": {
          "base_uri": "https://localhost:8080/",
          "height": 467
        },
        "id": "LejHkaqh8hTv",
        "outputId": "44b11f48-187a-4af7-e376-b1168fab88c7"
      },
      "execution_count": 29,
      "outputs": [
        {
          "output_type": "execute_result",
          "data": {
            "text/plain": [
              "Text(50.722222222222214, 0.5, 'Truth')"
            ]
          },
          "metadata": {},
          "execution_count": 29
        },
        {
          "output_type": "display_data",
          "data": {
            "text/plain": [
              "<Figure size 640x480 with 2 Axes>"
            ],
            "image/png": "[encoded data removed]"
          },
          "metadata": {}
        }
      ]
    },
    {
      "cell_type": "markdown",
      "source": [
        "**Validation**"
      ],
      "metadata": {
        "id": "K29z2k8V91kq"
      }
    },
    {
      "cell_type": "code",
      "source": [
        "# # Making predictions\n",
        "\n",
        "dft=pd.read_csv(\"project_test.csv\")\n",
        "dft"
      ],
      "metadata": {
        "id": "-PhzYtVv8lTC",
        "colab": {
          "base_uri": "https://localhost:8080/",
          "height": 206
        },
        "outputId": "5fe91a10-4bbd-47b4-c683-10c7980ec624"
      },
      "execution_count": 30,
      "outputs": [
        {
          "output_type": "execute_result",
          "data": {
            "text/plain": [
              "   Label1                                          Comments1\n",
              "0       0  Our driver never showed up and Uber cancelled ...\n",
              "1       1  My driver, Rohan was nice, but when I tried to...\n",
              "2       1  Uber is overcharging for Toll fees. When In Fl...\n",
              "3       0  I called uber for going home two days ago and ...\n",
              "4       1  Ordering a ride, then putting your 10, 12, and..."
            ],
            "text/html": [
              "\n",
              "  <div id=\"df-93cf0aeb-5936-4f1d-9483-45e7737fa197\">\n",
              "    <div class=\"colab-df-container\">\n",
              "      <div>\n",
              "<style scoped>\n",
              "    .dataframe tbody tr th:only-of-type {\n",
              "        vertical-align: middle;\n",
              "    }\n",
              "\n",
              "    .dataframe tbody tr th {\n",
              "        vertical-align: top;\n",
              "    }\n",
              "\n",
              "    .dataframe thead th {\n",
              "        text-align: right;\n",
              "    }\n",
              "</style>\n",
              "<table border=\"1\" class=\"dataframe\">\n",
              "  <thead>\n",
              "    <tr style=\"text-align: right;\">\n",
              "      <th></th>\n",
              "      <th>Label1</th>\n",
              "      <th>Comments1</th>\n",
              "    </tr>\n",
              "  </thead>\n",
              "  <tbody>\n",
              "    <tr>\n",
              "      <th>0</th>\n",
              "      <td>0</td>\n",
              "      <td>Our driver never showed up and Uber cancelled ...</td>\n",
              "    </tr>\n",
              "    <tr>\n",
              "      <th>1</th>\n",
              "      <td>1</td>\n",
              "      <td>My driver, Rohan was nice, but when I tried to...</td>\n",
              "    </tr>\n",
              "    <tr>\n",
              "      <th>2</th>\n",
              "      <td>1</td>\n",
              "      <td>Uber is overcharging for Toll fees. When In Fl...</td>\n",
              "    </tr>\n",
              "    <tr>\n",
              "      <th>3</th>\n",
              "      <td>0</td>\n",
              "      <td>I called uber for going home two days ago and ...</td>\n",
              "    </tr>\n",
              "    <tr>\n",
              "      <th>4</th>\n",
              "      <td>1</td>\n",
              "      <td>Ordering a ride, then putting your 10, 12, and...</td>\n",
              "    </tr>\n",
              "  </tbody>\n",
              "</table>\n",
              "</div>\n",
              "      <button class=\"colab-df-convert\" onclick=\"convertToInteractive('df-93cf0aeb-5936-4f1d-9483-45e7737fa197')\"\n",
              "              title=\"Convert this dataframe to an interactive table.\"\n",
              "              style=\"display:none;\">\n",
              "        \n",
              "  <svg xmlns=\"http://www.w3.org/2000/svg\" height=\"24px\"viewBox=\"0 0 24 24\"\n",
              "       width=\"24px\">\n",
              "    <path d=\"M0 0h24v24H0V0z\" fill=\"none\"/>\n",
              "    <path d=\"M18.56 5.44l.94 2.06.94-2.06 2.06-.94-2.06-.94-.94-2.06-.94 2.06-2.06.94zm-11 1L8.5 8.5l.94-2.06 2.06-.94-2.06-.94L8.5 2.5l-.94 2.06-2.06.94zm10 10l.94 2.06.94-2.06 2.06-.94-2.06-.94-.94-2.06-.94 2.06-2.06.94z\"/><path d=\"M17.41 7.96l-1.37-1.37c-.4-.4-.92-.59-1.43-.59-.52 0-1.04.2-1.43.59L10.3 9.45l-7.72 7.72c-.78.78-.78 2.05 0 2.83L4 21.41c.39.39.9.59 1.41.59.51 0 1.02-.2 1.41-.59l7.78-7.78 2.81-2.81c.8-.78.8-2.07 0-2.86zM5.41 20L4 18.59l7.72-7.72 1.47 1.35L5.41 20z\"/>\n",
              "  </svg>\n",
              "      </button>\n",
              "      \n",
              "  <style>\n",
              "    .colab-df-container {\n",
              "      display:flex;\n",
              "      flex-wrap:wrap;\n",
              "      gap: 12px;\n",
              "    }\n",
              "\n",
              "    .colab-df-convert {\n",
              "      background-color: #E8F0FE;\n",
              "      border: none;\n",
              "      border-radius: 50%;\n",
              "      cursor: pointer;\n",
              "      display: none;\n",
              "      fill: #1967D2;\n",
              "      height: 32px;\n",
              "      padding: 0 0 0 0;\n",
              "      width: 32px;\n",
              "    }\n",
              "\n",
              "    .colab-df-convert:hover {\n",
              "      background-color: #E2EBFA;\n",
              "      box-shadow: 0px 1px 2px rgba(60, 64, 67, 0.3), 0px 1px 3px 1px rgba(60, 64, 67, 0.15);\n",
              "      fill: #174EA6;\n",
              "    }\n",
              "\n",
              "    [theme=dark] .colab-df-convert {\n",
              "      background-color: #3B4455;\n",
              "      fill: #D2E3FC;\n",
              "    }\n",
              "\n",
              "    [theme=dark] .colab-df-convert:hover {\n",
              "      background-color: #434B5C;\n",
              "      box-shadow: 0px 1px 3px 1px rgba(0, 0, 0, 0.15);\n",
              "      filter: drop-shadow(0px 1px 2px rgba(0, 0, 0, 0.3));\n",
              "      fill: #FFFFFF;\n",
              "    }\n",
              "  </style>\n",
              "\n",
              "      <script>\n",
              "        const buttonEl =\n",
              "          document.querySelector('#df-93cf0aeb-5936-4f1d-9483-45e7737fa197 button.colab-df-convert');\n",
              "        buttonEl.style.display =\n",
              "          google.colab.kernel.accessAllowed ? 'block' : 'none';\n",
              "\n",
              "        async function convertToInteractive(key) {\n",
              "          const element = document.querySelector('#df-93cf0aeb-5936-4f1d-9483-45e7737fa197');\n",
              "          const dataTable =\n",
              "            await google.colab.kernel.invokeFunction('convertToInteractive',\n",
              "                                                     [key], {});\n",
              "          if (!dataTable) return;\n",
              "\n",
              "          const docLinkHtml = 'Like what you see? Visit the ' +\n",
              "            '<a target=\"_blank\" href=https://colab.research.google.com/notebooks/data_table.ipynb>data table notebook</a>'\n",
              "            + ' to learn more about interactive tables.';\n",
              "          element.innerHTML = '';\n",
              "          dataTable['output_type'] = 'display_data';\n",
              "          await google.colab.output.renderOutput(dataTable, element);\n",
              "          const docLink = document.createElement('div');\n",
              "          docLink.innerHTML = docLinkHtml;\n",
              "          element.appendChild(docLink);\n",
              "        }\n",
              "      </script>\n",
              "    </div>\n",
              "  </div>\n",
              "  "
            ]
          },
          "metadata": {},
          "execution_count": 30
        }
      ]
    },
    {
      "cell_type": "code",
      "source": [
        "dft_comments=dft.Comments1\n",
        "dft_comments"
      ],
      "metadata": {
        "colab": {
          "base_uri": "https://localhost:8080/"
        },
        "id": "iNng04Xy-36i",
        "outputId": "f9095307-50c5-448a-cfe0-80b7ed526c85"
      },
      "execution_count": 31,
      "outputs": [
        {
          "output_type": "execute_result",
          "data": {
            "text/plain": [
              "0    Our driver never showed up and Uber cancelled ...\n",
              "1    My driver, Rohan was nice, but when I tried to...\n",
              "2    Uber is overcharging for Toll fees. When In Fl...\n",
              "3    I called uber for going home two days ago and ...\n",
              "4    Ordering a ride, then putting your 10, 12, and...\n",
              "Name: Comments1, dtype: object"
            ]
          },
          "metadata": {},
          "execution_count": 31
        }
      ]
    },
    {
      "cell_type": "code",
      "source": [
        "test_pred=model.predict(dft_comments)\n",
        "test_pred"
      ],
      "metadata": {
        "colab": {
          "base_uri": "https://localhost:8080/"
        },
        "id": "64VbQedS-oDI",
        "outputId": "62fc1898-c84a-4ef7-b5af-fb301cb96307"
      },
      "execution_count": 32,
      "outputs": [
        {
          "output_type": "stream",
          "name": "stdout",
          "text": [
            "1/1 [==============================] - 0s 32ms/step\n"
          ]
        },
        {
          "output_type": "execute_result",
          "data": {
            "text/plain": [
              "array([[0.49924654],\n",
              "       [0.5304811 ],\n",
              "       [0.61804193],\n",
              "       [0.71459854],\n",
              "       [0.5564488 ]], dtype=float32)"
            ]
          },
          "metadata": {},
          "execution_count": 32
        }
      ]
    },
    {
      "cell_type": "code",
      "source": [
        "test_pred2=test_pred.flatten()\n",
        "test_pred2"
      ],
      "metadata": {
        "colab": {
          "base_uri": "https://localhost:8080/"
        },
        "id": "bFwRBEmi-85x",
        "outputId": "ec05a645-4a83-4f9a-c07d-a41fba716cf3"
      },
      "execution_count": 33,
      "outputs": [
        {
          "output_type": "execute_result",
          "data": {
            "text/plain": [
              "array([0.49924654, 0.5304811 , 0.61804193, 0.71459854, 0.5564488 ],\n",
              "      dtype=float32)"
            ]
          },
          "metadata": {},
          "execution_count": 33
        }
      ]
    },
    {
      "cell_type": "code",
      "source": [
        "test_final=np.where(test_pred2 > 0.5, 1, 0)\n",
        "test_final"
      ],
      "metadata": {
        "colab": {
          "base_uri": "https://localhost:8080/"
        },
        "id": "vIbWhKVv_eh4",
        "outputId": "f29fc595-02c1-44e2-d134-5b02515c0f15"
      },
      "execution_count": 36,
      "outputs": [
        {
          "output_type": "execute_result",
          "data": {
            "text/plain": [
              "array([0, 1, 1, 1, 1])"
            ]
          },
          "metadata": {},
          "execution_count": 36
        }
      ]
    },
    {
      "cell_type": "code",
      "source": [
        "test_label=dft.Label1\n",
        "test_label"
      ],
      "metadata": {
        "colab": {
          "base_uri": "https://localhost:8080/"
        },
        "id": "aTnbKNxv_lg5",
        "outputId": "1ad12cbb-0234-49ad-d65b-b0e0eb0a2f9a"
      },
      "execution_count": 37,
      "outputs": [
        {
          "output_type": "execute_result",
          "data": {
            "text/plain": [
              "0    0\n",
              "1    1\n",
              "2    1\n",
              "3    0\n",
              "4    1\n",
              "Name: Label1, dtype: int64"
            ]
          },
          "metadata": {},
          "execution_count": 37
        }
      ]
    },
    {
      "cell_type": "code",
      "source": [
        "from sklearn.metrics import accuracy_score\n",
        "accuracy=accuracy_score(test_label, test_final) \n",
        "accuracy"
      ],
      "metadata": {
        "colab": {
          "base_uri": "https://localhost:8080/"
        },
        "id": "6ciExM81_otV",
        "outputId": "58b9d8fd-22d5-40af-a43e-1bc96f4ea3c0"
      },
      "execution_count": 38,
      "outputs": [
        {
          "output_type": "execute_result",
          "data": {
            "text/plain": [
              "0.8"
            ]
          },
          "metadata": {},
          "execution_count": 38
        }
      ]
    },
    {
      "cell_type": "code",
      "source": [
        "for i in range(0,5):\n",
        "  print(dft_comments[i])\n",
        "  if (test_final[i] ==0):\n",
        "    print(\"Review - Fair(related to driver)\")\n",
        "  else:\n",
        "    print(\"Review - unfair(not related)\")  \n",
        "  print(\"\\n\")"
      ],
      "metadata": {
        "colab": {
          "base_uri": "https://localhost:8080/"
        },
        "id": "erzaO-if_rZv",
        "outputId": "b3e2e7bd-0618-42ed-8d42-10e54637f358"
      },
      "execution_count": 39,
      "outputs": [
        {
          "output_type": "stream",
          "name": "stdout",
          "text": [
            "Our driver never showed up and Uber cancelled our ride, not us. They charged us a cancellation fee for them cancelling. When I disputed it they would only credit it on future ride instead of refund back to our credit card. Why am I only getting a credit on account instead of a full refund to my credit card used?? This is not right what you have done when it was a Uber error.\n",
            "Review - Fair(related to driver)\n",
            "\n",
            "\n",
            "My driver, Rohan was nice, but when I tried to add tip I noticed that he had switched my $9 9am fare in French Quarter to someone else's 2pm trip in Metairie for $28.00! UBER refused to acknowledge. 5 attempts to rectify problem and received nothing but irrelevant automated replies. If you get in the car with Rohan in NOLA and he says he can't get his system to work, it's a a SCAM. Terrible customer service from UBER with zero relevant assistance after 7 days of requesting corrected bill. BEWARE.\n",
            "Review - unfair(not related)\n",
            "\n",
            "\n",
            "Uber is overcharging for Toll fees. When In Florida the Tolls fees estimates between $ .75 to $ 2.00. Uber price shown will be Example $ 16.73 for the ride. After you take the ride you get charge 28.23 and when you check the account it's telling you that you got charge for Tolls. The driver never took the toll route and you try to contact Uber company and they take long to get back to you about the issue of being overcharge. I try to email them and let them know about the extra charges and why am I being charge for a service that I didn't receive.\n",
            "Review - unfair(not related)\n",
            "\n",
            "\n",
            "I called uber for going home two days ago and yesterday they charged me extra 40$ even no one told me reason. Then I contacted uber and they told me driver complained me about I was drunk or something else they sent me stupid pictures. I didn't understand exactly what happened but I just called uber and went home even I didn't talk to driver and went home. How come no one asked me anything and they just charged me 40$ directly. I will take my money back and I will delete uber.\n",
            "Review - unfair(not related)\n",
            "\n",
            "\n",
            "Ordering a ride, then putting your 10, 12, and 14-year-old kids in the car and expect me to take them without you.\n",
            "Review - unfair(not related)\n",
            "\n",
            "\n"
          ]
        }
      ]
    },
    {
      "cell_type": "code",
      "source": [],
      "metadata": {
        "id": "_UbtDubN_7FM"
      },
      "execution_count": null,
      "outputs": []
    }
  ]
}