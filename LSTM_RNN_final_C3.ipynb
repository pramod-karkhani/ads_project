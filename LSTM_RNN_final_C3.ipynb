{
  "cells": [
    {
      "cell_type": "code",
      "execution_count": 1,
      "id": "5ec532ba-4197-46b1-bcb0-3736213de7e6",
      "metadata": {
        "id": "5ec532ba-4197-46b1-bcb0-3736213de7e6"
      },
      "outputs": [],
      "source": [
        "import pandas as pd"
      ]
    },
    {
      "cell_type": "code",
      "execution_count": 2,
      "id": "6c8701f5-bd18-4ac0-800a-77d1ff01c3ac",
      "metadata": {
        "colab": {
          "base_uri": "https://localhost:8080/",
          "height": 424
        },
        "id": "6c8701f5-bd18-4ac0-800a-77d1ff01c3ac",
        "outputId": "4df98fff-6e8a-4468-c1f9-35fd6ddab5d8"
      },
      "outputs": [
        {
          "output_type": "execute_result",
          "data": {
            "text/plain": [
              "      Label                                            Comment\n",
              "0       0.0  I had an accident with an Uber driver in Mexic...\n",
              "1       1.0  I have had my account completely hacked to whe...\n",
              "2       1.0  I requested an 8 mile ride in Boston on a Satu...\n",
              "3       1.0  Uber is overcharging for Toll fees. When In Fl...\n",
              "4       1.0  I had an airport flight today. Uber would not ...\n",
              "...     ...                                                ...\n",
              "1698    1.0  I tried to log in to Uber. I have only one ema...\n",
              "1699    1.0  When I saw an ad online for the soon to be Ube...\n",
              "1700    1.0  As a driver I was assaulted by a couple guys. ...\n",
              "1701    1.0  I attempted to sign up as a driver about a mon...\n",
              "1702    1.0  They don't communicate and you can't contact t...\n",
              "\n",
              "[1703 rows x 2 columns]"
            ],
            "text/html": [
              "\n",
              "  <div id=\"df-f42abc1c-7ab2-4c7a-bc55-482447d149b0\">\n",
              "    <div class=\"colab-df-container\">\n",
              "      <div>\n",
              "<style scoped>\n",
              "    .dataframe tbody tr th:only-of-type {\n",
              "        vertical-align: middle;\n",
              "    }\n",
              "\n",
              "    .dataframe tbody tr th {\n",
              "        vertical-align: top;\n",
              "    }\n",
              "\n",
              "    .dataframe thead th {\n",
              "        text-align: right;\n",
              "    }\n",
              "</style>\n",
              "<table border=\"1\" class=\"dataframe\">\n",
              "  <thead>\n",
              "    <tr style=\"text-align: right;\">\n",
              "      <th></th>\n",
              "      <th>Label</th>\n",
              "      <th>Comment</th>\n",
              "    </tr>\n",
              "  </thead>\n",
              "  <tbody>\n",
              "    <tr>\n",
              "      <th>0</th>\n",
              "      <td>0.0</td>\n",
              "      <td>I had an accident with an Uber driver in Mexic...</td>\n",
              "    </tr>\n",
              "    <tr>\n",
              "      <th>1</th>\n",
              "      <td>1.0</td>\n",
              "      <td>I have had my account completely hacked to whe...</td>\n",
              "    </tr>\n",
              "    <tr>\n",
              "      <th>2</th>\n",
              "      <td>1.0</td>\n",
              "      <td>I requested an 8 mile ride in Boston on a Satu...</td>\n",
              "    </tr>\n",
              "    <tr>\n",
              "      <th>3</th>\n",
              "      <td>1.0</td>\n",
              "      <td>Uber is overcharging for Toll fees. When In Fl...</td>\n",
              "    </tr>\n",
              "    <tr>\n",
              "      <th>4</th>\n",
              "      <td>1.0</td>\n",
              "      <td>I had an airport flight today. Uber would not ...</td>\n",
              "    </tr>\n",
              "    <tr>\n",
              "      <th>...</th>\n",
              "      <td>...</td>\n",
              "      <td>...</td>\n",
              "    </tr>\n",
              "    <tr>\n",
              "      <th>1698</th>\n",
              "      <td>1.0</td>\n",
              "      <td>I tried to log in to Uber. I have only one ema...</td>\n",
              "    </tr>\n",
              "    <tr>\n",
              "      <th>1699</th>\n",
              "      <td>1.0</td>\n",
              "      <td>When I saw an ad online for the soon to be Ube...</td>\n",
              "    </tr>\n",
              "    <tr>\n",
              "      <th>1700</th>\n",
              "      <td>1.0</td>\n",
              "      <td>As a driver I was assaulted by a couple guys. ...</td>\n",
              "    </tr>\n",
              "    <tr>\n",
              "      <th>1701</th>\n",
              "      <td>1.0</td>\n",
              "      <td>I attempted to sign up as a driver about a mon...</td>\n",
              "    </tr>\n",
              "    <tr>\n",
              "      <th>1702</th>\n",
              "      <td>1.0</td>\n",
              "      <td>They don't communicate and you can't contact t...</td>\n",
              "    </tr>\n",
              "  </tbody>\n",
              "</table>\n",
              "<p>1703 rows × 2 columns</p>\n",
              "</div>\n",
              "      <button class=\"colab-df-convert\" onclick=\"convertToInteractive('df-f42abc1c-7ab2-4c7a-bc55-482447d149b0')\"\n",
              "              title=\"Convert this dataframe to an interactive table.\"\n",
              "              style=\"display:none;\">\n",
              "        \n",
              "  <svg xmlns=\"http://www.w3.org/2000/svg\" height=\"24px\"viewBox=\"0 0 24 24\"\n",
              "       width=\"24px\">\n",
              "    <path d=\"M0 0h24v24H0V0z\" fill=\"none\"/>\n",
              "    <path d=\"M18.56 5.44l.94 2.06.94-2.06 2.06-.94-2.06-.94-.94-2.06-.94 2.06-2.06.94zm-11 1L8.5 8.5l.94-2.06 2.06-.94-2.06-.94L8.5 2.5l-.94 2.06-2.06.94zm10 10l.94 2.06.94-2.06 2.06-.94-2.06-.94-.94-2.06-.94 2.06-2.06.94z\"/><path d=\"M17.41 7.96l-1.37-1.37c-.4-.4-.92-.59-1.43-.59-.52 0-1.04.2-1.43.59L10.3 9.45l-7.72 7.72c-.78.78-.78 2.05 0 2.83L4 21.41c.39.39.9.59 1.41.59.51 0 1.02-.2 1.41-.59l7.78-7.78 2.81-2.81c.8-.78.8-2.07 0-2.86zM5.41 20L4 18.59l7.72-7.72 1.47 1.35L5.41 20z\"/>\n",
              "  </svg>\n",
              "      </button>\n",
              "      \n",
              "  <style>\n",
              "    .colab-df-container {\n",
              "      display:flex;\n",
              "      flex-wrap:wrap;\n",
              "      gap: 12px;\n",
              "    }\n",
              "\n",
              "    .colab-df-convert {\n",
              "      background-color: #E8F0FE;\n",
              "      border: none;\n",
              "      border-radius: 50%;\n",
              "      cursor: pointer;\n",
              "      display: none;\n",
              "      fill: #1967D2;\n",
              "      height: 32px;\n",
              "      padding: 0 0 0 0;\n",
              "      width: 32px;\n",
              "    }\n",
              "\n",
              "    .colab-df-convert:hover {\n",
              "      background-color: #E2EBFA;\n",
              "      box-shadow: 0px 1px 2px rgba(60, 64, 67, 0.3), 0px 1px 3px 1px rgba(60, 64, 67, 0.15);\n",
              "      fill: #174EA6;\n",
              "    }\n",
              "\n",
              "    [theme=dark] .colab-df-convert {\n",
              "      background-color: #3B4455;\n",
              "      fill: #D2E3FC;\n",
              "    }\n",
              "\n",
              "    [theme=dark] .colab-df-convert:hover {\n",
              "      background-color: #434B5C;\n",
              "      box-shadow: 0px 1px 3px 1px rgba(0, 0, 0, 0.15);\n",
              "      filter: drop-shadow(0px 1px 2px rgba(0, 0, 0, 0.3));\n",
              "      fill: #FFFFFF;\n",
              "    }\n",
              "  </style>\n",
              "\n",
              "      <script>\n",
              "        const buttonEl =\n",
              "          document.querySelector('#df-f42abc1c-7ab2-4c7a-bc55-482447d149b0 button.colab-df-convert');\n",
              "        buttonEl.style.display =\n",
              "          google.colab.kernel.accessAllowed ? 'block' : 'none';\n",
              "\n",
              "        async function convertToInteractive(key) {\n",
              "          const element = document.querySelector('#df-f42abc1c-7ab2-4c7a-bc55-482447d149b0');\n",
              "          const dataTable =\n",
              "            await google.colab.kernel.invokeFunction('convertToInteractive',\n",
              "                                                     [key], {});\n",
              "          if (!dataTable) return;\n",
              "\n",
              "          const docLinkHtml = 'Like what you see? Visit the ' +\n",
              "            '<a target=\"_blank\" href=https://colab.research.google.com/notebooks/data_table.ipynb>data table notebook</a>'\n",
              "            + ' to learn more about interactive tables.';\n",
              "          element.innerHTML = '';\n",
              "          dataTable['output_type'] = 'display_data';\n",
              "          await google.colab.output.renderOutput(dataTable, element);\n",
              "          const docLink = document.createElement('div');\n",
              "          docLink.innerHTML = docLinkHtml;\n",
              "          element.appendChild(docLink);\n",
              "        }\n",
              "      </script>\n",
              "    </div>\n",
              "  </div>\n",
              "  "
            ]
          },
          "metadata": {},
          "execution_count": 2
        }
      ],
      "source": [
        "dfr=pd.read_csv(\"/content/c_final - Sheet1.csv\")\n",
        "dfr"
      ]
    },
    {
      "cell_type": "code",
      "source": [
        "dfr.isna().sum()"
      ],
      "metadata": {
        "colab": {
          "base_uri": "https://localhost:8080/"
        },
        "id": "1psTNoKcGksG",
        "outputId": "90890a3c-bf0a-40d2-aa39-0b941d1ba2a6"
      },
      "id": "1psTNoKcGksG",
      "execution_count": 3,
      "outputs": [
        {
          "output_type": "execute_result",
          "data": {
            "text/plain": [
              "Label      14\n",
              "Comment    12\n",
              "dtype: int64"
            ]
          },
          "metadata": {},
          "execution_count": 3
        }
      ]
    },
    {
      "cell_type": "code",
      "source": [
        "dfr=dfr.dropna()\n",
        "dfr"
      ],
      "metadata": {
        "colab": {
          "base_uri": "https://localhost:8080/",
          "height": 424
        },
        "id": "zko0cxJK-cBx",
        "outputId": "eb82f95d-e92e-42dd-bdaf-ec9fcaa0d01e"
      },
      "id": "zko0cxJK-cBx",
      "execution_count": 4,
      "outputs": [
        {
          "output_type": "execute_result",
          "data": {
            "text/plain": [
              "      Label                                            Comment\n",
              "0       0.0  I had an accident with an Uber driver in Mexic...\n",
              "1       1.0  I have had my account completely hacked to whe...\n",
              "2       1.0  I requested an 8 mile ride in Boston on a Satu...\n",
              "3       1.0  Uber is overcharging for Toll fees. When In Fl...\n",
              "4       1.0  I had an airport flight today. Uber would not ...\n",
              "...     ...                                                ...\n",
              "1698    1.0  I tried to log in to Uber. I have only one ema...\n",
              "1699    1.0  When I saw an ad online for the soon to be Ube...\n",
              "1700    1.0  As a driver I was assaulted by a couple guys. ...\n",
              "1701    1.0  I attempted to sign up as a driver about a mon...\n",
              "1702    1.0  They don't communicate and you can't contact t...\n",
              "\n",
              "[1689 rows x 2 columns]"
            ],
            "text/html": [
              "\n",
              "  <div id=\"df-ddc73c07-dd14-4a96-95da-152de766486b\">\n",
              "    <div class=\"colab-df-container\">\n",
              "      <div>\n",
              "<style scoped>\n",
              "    .dataframe tbody tr th:only-of-type {\n",
              "        vertical-align: middle;\n",
              "    }\n",
              "\n",
              "    .dataframe tbody tr th {\n",
              "        vertical-align: top;\n",
              "    }\n",
              "\n",
              "    .dataframe thead th {\n",
              "        text-align: right;\n",
              "    }\n",
              "</style>\n",
              "<table border=\"1\" class=\"dataframe\">\n",
              "  <thead>\n",
              "    <tr style=\"text-align: right;\">\n",
              "      <th></th>\n",
              "      <th>Label</th>\n",
              "      <th>Comment</th>\n",
              "    </tr>\n",
              "  </thead>\n",
              "  <tbody>\n",
              "    <tr>\n",
              "      <th>0</th>\n",
              "      <td>0.0</td>\n",
              "      <td>I had an accident with an Uber driver in Mexic...</td>\n",
              "    </tr>\n",
              "    <tr>\n",
              "      <th>1</th>\n",
              "      <td>1.0</td>\n",
              "      <td>I have had my account completely hacked to whe...</td>\n",
              "    </tr>\n",
              "    <tr>\n",
              "      <th>2</th>\n",
              "      <td>1.0</td>\n",
              "      <td>I requested an 8 mile ride in Boston on a Satu...</td>\n",
              "    </tr>\n",
              "    <tr>\n",
              "      <th>3</th>\n",
              "      <td>1.0</td>\n",
              "      <td>Uber is overcharging for Toll fees. When In Fl...</td>\n",
              "    </tr>\n",
              "    <tr>\n",
              "      <th>4</th>\n",
              "      <td>1.0</td>\n",
              "      <td>I had an airport flight today. Uber would not ...</td>\n",
              "    </tr>\n",
              "    <tr>\n",
              "      <th>...</th>\n",
              "      <td>...</td>\n",
              "      <td>...</td>\n",
              "    </tr>\n",
              "    <tr>\n",
              "      <th>1698</th>\n",
              "      <td>1.0</td>\n",
              "      <td>I tried to log in to Uber. I have only one ema...</td>\n",
              "    </tr>\n",
              "    <tr>\n",
              "      <th>1699</th>\n",
              "      <td>1.0</td>\n",
              "      <td>When I saw an ad online for the soon to be Ube...</td>\n",
              "    </tr>\n",
              "    <tr>\n",
              "      <th>1700</th>\n",
              "      <td>1.0</td>\n",
              "      <td>As a driver I was assaulted by a couple guys. ...</td>\n",
              "    </tr>\n",
              "    <tr>\n",
              "      <th>1701</th>\n",
              "      <td>1.0</td>\n",
              "      <td>I attempted to sign up as a driver about a mon...</td>\n",
              "    </tr>\n",
              "    <tr>\n",
              "      <th>1702</th>\n",
              "      <td>1.0</td>\n",
              "      <td>They don't communicate and you can't contact t...</td>\n",
              "    </tr>\n",
              "  </tbody>\n",
              "</table>\n",
              "<p>1689 rows × 2 columns</p>\n",
              "</div>\n",
              "      <button class=\"colab-df-convert\" onclick=\"convertToInteractive('df-ddc73c07-dd14-4a96-95da-152de766486b')\"\n",
              "              title=\"Convert this dataframe to an interactive table.\"\n",
              "              style=\"display:none;\">\n",
              "        \n",
              "  <svg xmlns=\"http://www.w3.org/2000/svg\" height=\"24px\"viewBox=\"0 0 24 24\"\n",
              "       width=\"24px\">\n",
              "    <path d=\"M0 0h24v24H0V0z\" fill=\"none\"/>\n",
              "    <path d=\"M18.56 5.44l.94 2.06.94-2.06 2.06-.94-2.06-.94-.94-2.06-.94 2.06-2.06.94zm-11 1L8.5 8.5l.94-2.06 2.06-.94-2.06-.94L8.5 2.5l-.94 2.06-2.06.94zm10 10l.94 2.06.94-2.06 2.06-.94-2.06-.94-.94-2.06-.94 2.06-2.06.94z\"/><path d=\"M17.41 7.96l-1.37-1.37c-.4-.4-.92-.59-1.43-.59-.52 0-1.04.2-1.43.59L10.3 9.45l-7.72 7.72c-.78.78-.78 2.05 0 2.83L4 21.41c.39.39.9.59 1.41.59.51 0 1.02-.2 1.41-.59l7.78-7.78 2.81-2.81c.8-.78.8-2.07 0-2.86zM5.41 20L4 18.59l7.72-7.72 1.47 1.35L5.41 20z\"/>\n",
              "  </svg>\n",
              "      </button>\n",
              "      \n",
              "  <style>\n",
              "    .colab-df-container {\n",
              "      display:flex;\n",
              "      flex-wrap:wrap;\n",
              "      gap: 12px;\n",
              "    }\n",
              "\n",
              "    .colab-df-convert {\n",
              "      background-color: #E8F0FE;\n",
              "      border: none;\n",
              "      border-radius: 50%;\n",
              "      cursor: pointer;\n",
              "      display: none;\n",
              "      fill: #1967D2;\n",
              "      height: 32px;\n",
              "      padding: 0 0 0 0;\n",
              "      width: 32px;\n",
              "    }\n",
              "\n",
              "    .colab-df-convert:hover {\n",
              "      background-color: #E2EBFA;\n",
              "      box-shadow: 0px 1px 2px rgba(60, 64, 67, 0.3), 0px 1px 3px 1px rgba(60, 64, 67, 0.15);\n",
              "      fill: #174EA6;\n",
              "    }\n",
              "\n",
              "    [theme=dark] .colab-df-convert {\n",
              "      background-color: #3B4455;\n",
              "      fill: #D2E3FC;\n",
              "    }\n",
              "\n",
              "    [theme=dark] .colab-df-convert:hover {\n",
              "      background-color: #434B5C;\n",
              "      box-shadow: 0px 1px 3px 1px rgba(0, 0, 0, 0.15);\n",
              "      filter: drop-shadow(0px 1px 2px rgba(0, 0, 0, 0.3));\n",
              "      fill: #FFFFFF;\n",
              "    }\n",
              "  </style>\n",
              "\n",
              "      <script>\n",
              "        const buttonEl =\n",
              "          document.querySelector('#df-ddc73c07-dd14-4a96-95da-152de766486b button.colab-df-convert');\n",
              "        buttonEl.style.display =\n",
              "          google.colab.kernel.accessAllowed ? 'block' : 'none';\n",
              "\n",
              "        async function convertToInteractive(key) {\n",
              "          const element = document.querySelector('#df-ddc73c07-dd14-4a96-95da-152de766486b');\n",
              "          const dataTable =\n",
              "            await google.colab.kernel.invokeFunction('convertToInteractive',\n",
              "                                                     [key], {});\n",
              "          if (!dataTable) return;\n",
              "\n",
              "          const docLinkHtml = 'Like what you see? Visit the ' +\n",
              "            '<a target=\"_blank\" href=https://colab.research.google.com/notebooks/data_table.ipynb>data table notebook</a>'\n",
              "            + ' to learn more about interactive tables.';\n",
              "          element.innerHTML = '';\n",
              "          dataTable['output_type'] = 'display_data';\n",
              "          await google.colab.output.renderOutput(dataTable, element);\n",
              "          const docLink = document.createElement('div');\n",
              "          docLink.innerHTML = docLinkHtml;\n",
              "          element.appendChild(docLink);\n",
              "        }\n",
              "      </script>\n",
              "    </div>\n",
              "  </div>\n",
              "  "
            ]
          },
          "metadata": {},
          "execution_count": 4
        }
      ]
    },
    {
      "cell_type": "code",
      "source": [
        "dfr[\"Label\"]=dfr[\"Label\"].astype(int)"
      ],
      "metadata": {
        "colab": {
          "base_uri": "https://localhost:8080/"
        },
        "id": "YV6hVdHt-44c",
        "outputId": "d959e37a-4315-47ba-c1ff-1a880017ae61"
      },
      "id": "YV6hVdHt-44c",
      "execution_count": 5,
      "outputs": [
        {
          "output_type": "stream",
          "name": "stderr",
          "text": [
            "<ipython-input-5-3b8715922685>:1: SettingWithCopyWarning: \n",
            "A value is trying to be set on a copy of a slice from a DataFrame.\n",
            "Try using .loc[row_indexer,col_indexer] = value instead\n",
            "\n",
            "See the caveats in the documentation: https://pandas.pydata.org/pandas-docs/stable/user_guide/indexing.html#returning-a-view-versus-a-copy\n",
            "  dfr[\"Label\"]=dfr[\"Label\"].astype(int)\n"
          ]
        }
      ]
    },
    {
      "cell_type": "code",
      "source": [
        "dfr[\"count\"]=dfr[\"Comment\"].apply(lambda x: len(x.split()))\n",
        "dfr"
      ],
      "metadata": {
        "colab": {
          "base_uri": "https://localhost:8080/",
          "height": 531
        },
        "id": "F8-4z6s4bee2",
        "outputId": "e5f39bad-9137-4a54-9791-2dbd6e9f8fd3"
      },
      "id": "F8-4z6s4bee2",
      "execution_count": 6,
      "outputs": [
        {
          "output_type": "stream",
          "name": "stderr",
          "text": [
            "<ipython-input-6-50c78d3b31b5>:1: SettingWithCopyWarning: \n",
            "A value is trying to be set on a copy of a slice from a DataFrame.\n",
            "Try using .loc[row_indexer,col_indexer] = value instead\n",
            "\n",
            "See the caveats in the documentation: https://pandas.pydata.org/pandas-docs/stable/user_guide/indexing.html#returning-a-view-versus-a-copy\n",
            "  dfr[\"count\"]=dfr[\"Comment\"].apply(lambda x: len(x.split()))\n"
          ]
        },
        {
          "output_type": "execute_result",
          "data": {
            "text/plain": [
              "      Label                                            Comment  count\n",
              "0         0  I had an accident with an Uber driver in Mexic...    153\n",
              "1         1  I have had my account completely hacked to whe...    155\n",
              "2         1  I requested an 8 mile ride in Boston on a Satu...     45\n",
              "3         1  Uber is overcharging for Toll fees. When In Fl...    109\n",
              "4         1  I had an airport flight today. Uber would not ...    120\n",
              "...     ...                                                ...    ...\n",
              "1698      1  I tried to log in to Uber. I have only one ema...    102\n",
              "1699      1  When I saw an ad online for the soon to be Ube...    171\n",
              "1700      1  As a driver I was assaulted by a couple guys. ...     63\n",
              "1701      1  I attempted to sign up as a driver about a mon...    136\n",
              "1702      1  They don't communicate and you can't contact t...    144\n",
              "\n",
              "[1689 rows x 3 columns]"
            ],
            "text/html": [
              "\n",
              "  <div id=\"df-bf80d8bb-847e-41e2-9df9-5f3caf19a552\">\n",
              "    <div class=\"colab-df-container\">\n",
              "      <div>\n",
              "<style scoped>\n",
              "    .dataframe tbody tr th:only-of-type {\n",
              "        vertical-align: middle;\n",
              "    }\n",
              "\n",
              "    .dataframe tbody tr th {\n",
              "        vertical-align: top;\n",
              "    }\n",
              "\n",
              "    .dataframe thead th {\n",
              "        text-align: right;\n",
              "    }\n",
              "</style>\n",
              "<table border=\"1\" class=\"dataframe\">\n",
              "  <thead>\n",
              "    <tr style=\"text-align: right;\">\n",
              "      <th></th>\n",
              "      <th>Label</th>\n",
              "      <th>Comment</th>\n",
              "      <th>count</th>\n",
              "    </tr>\n",
              "  </thead>\n",
              "  <tbody>\n",
              "    <tr>\n",
              "      <th>0</th>\n",
              "      <td>0</td>\n",
              "      <td>I had an accident with an Uber driver in Mexic...</td>\n",
              "      <td>153</td>\n",
              "    </tr>\n",
              "    <tr>\n",
              "      <th>1</th>\n",
              "      <td>1</td>\n",
              "      <td>I have had my account completely hacked to whe...</td>\n",
              "      <td>155</td>\n",
              "    </tr>\n",
              "    <tr>\n",
              "      <th>2</th>\n",
              "      <td>1</td>\n",
              "      <td>I requested an 8 mile ride in Boston on a Satu...</td>\n",
              "      <td>45</td>\n",
              "    </tr>\n",
              "    <tr>\n",
              "      <th>3</th>\n",
              "      <td>1</td>\n",
              "      <td>Uber is overcharging for Toll fees. When In Fl...</td>\n",
              "      <td>109</td>\n",
              "    </tr>\n",
              "    <tr>\n",
              "      <th>4</th>\n",
              "      <td>1</td>\n",
              "      <td>I had an airport flight today. Uber would not ...</td>\n",
              "      <td>120</td>\n",
              "    </tr>\n",
              "    <tr>\n",
              "      <th>...</th>\n",
              "      <td>...</td>\n",
              "      <td>...</td>\n",
              "      <td>...</td>\n",
              "    </tr>\n",
              "    <tr>\n",
              "      <th>1698</th>\n",
              "      <td>1</td>\n",
              "      <td>I tried to log in to Uber. I have only one ema...</td>\n",
              "      <td>102</td>\n",
              "    </tr>\n",
              "    <tr>\n",
              "      <th>1699</th>\n",
              "      <td>1</td>\n",
              "      <td>When I saw an ad online for the soon to be Ube...</td>\n",
              "      <td>171</td>\n",
              "    </tr>\n",
              "    <tr>\n",
              "      <th>1700</th>\n",
              "      <td>1</td>\n",
              "      <td>As a driver I was assaulted by a couple guys. ...</td>\n",
              "      <td>63</td>\n",
              "    </tr>\n",
              "    <tr>\n",
              "      <th>1701</th>\n",
              "      <td>1</td>\n",
              "      <td>I attempted to sign up as a driver about a mon...</td>\n",
              "      <td>136</td>\n",
              "    </tr>\n",
              "    <tr>\n",
              "      <th>1702</th>\n",
              "      <td>1</td>\n",
              "      <td>They don't communicate and you can't contact t...</td>\n",
              "      <td>144</td>\n",
              "    </tr>\n",
              "  </tbody>\n",
              "</table>\n",
              "<p>1689 rows × 3 columns</p>\n",
              "</div>\n",
              "      <button class=\"colab-df-convert\" onclick=\"convertToInteractive('df-bf80d8bb-847e-41e2-9df9-5f3caf19a552')\"\n",
              "              title=\"Convert this dataframe to an interactive table.\"\n",
              "              style=\"display:none;\">\n",
              "        \n",
              "  <svg xmlns=\"http://www.w3.org/2000/svg\" height=\"24px\"viewBox=\"0 0 24 24\"\n",
              "       width=\"24px\">\n",
              "    <path d=\"M0 0h24v24H0V0z\" fill=\"none\"/>\n",
              "    <path d=\"M18.56 5.44l.94 2.06.94-2.06 2.06-.94-2.06-.94-.94-2.06-.94 2.06-2.06.94zm-11 1L8.5 8.5l.94-2.06 2.06-.94-2.06-.94L8.5 2.5l-.94 2.06-2.06.94zm10 10l.94 2.06.94-2.06 2.06-.94-2.06-.94-.94-2.06-.94 2.06-2.06.94z\"/><path d=\"M17.41 7.96l-1.37-1.37c-.4-.4-.92-.59-1.43-.59-.52 0-1.04.2-1.43.59L10.3 9.45l-7.72 7.72c-.78.78-.78 2.05 0 2.83L4 21.41c.39.39.9.59 1.41.59.51 0 1.02-.2 1.41-.59l7.78-7.78 2.81-2.81c.8-.78.8-2.07 0-2.86zM5.41 20L4 18.59l7.72-7.72 1.47 1.35L5.41 20z\"/>\n",
              "  </svg>\n",
              "      </button>\n",
              "      \n",
              "  <style>\n",
              "    .colab-df-container {\n",
              "      display:flex;\n",
              "      flex-wrap:wrap;\n",
              "      gap: 12px;\n",
              "    }\n",
              "\n",
              "    .colab-df-convert {\n",
              "      background-color: #E8F0FE;\n",
              "      border: none;\n",
              "      border-radius: 50%;\n",
              "      cursor: pointer;\n",
              "      display: none;\n",
              "      fill: #1967D2;\n",
              "      height: 32px;\n",
              "      padding: 0 0 0 0;\n",
              "      width: 32px;\n",
              "    }\n",
              "\n",
              "    .colab-df-convert:hover {\n",
              "      background-color: #E2EBFA;\n",
              "      box-shadow: 0px 1px 2px rgba(60, 64, 67, 0.3), 0px 1px 3px 1px rgba(60, 64, 67, 0.15);\n",
              "      fill: #174EA6;\n",
              "    }\n",
              "\n",
              "    [theme=dark] .colab-df-convert {\n",
              "      background-color: #3B4455;\n",
              "      fill: #D2E3FC;\n",
              "    }\n",
              "\n",
              "    [theme=dark] .colab-df-convert:hover {\n",
              "      background-color: #434B5C;\n",
              "      box-shadow: 0px 1px 3px 1px rgba(0, 0, 0, 0.15);\n",
              "      filter: drop-shadow(0px 1px 2px rgba(0, 0, 0, 0.3));\n",
              "      fill: #FFFFFF;\n",
              "    }\n",
              "  </style>\n",
              "\n",
              "      <script>\n",
              "        const buttonEl =\n",
              "          document.querySelector('#df-bf80d8bb-847e-41e2-9df9-5f3caf19a552 button.colab-df-convert');\n",
              "        buttonEl.style.display =\n",
              "          google.colab.kernel.accessAllowed ? 'block' : 'none';\n",
              "\n",
              "        async function convertToInteractive(key) {\n",
              "          const element = document.querySelector('#df-bf80d8bb-847e-41e2-9df9-5f3caf19a552');\n",
              "          const dataTable =\n",
              "            await google.colab.kernel.invokeFunction('convertToInteractive',\n",
              "                                                     [key], {});\n",
              "          if (!dataTable) return;\n",
              "\n",
              "          const docLinkHtml = 'Like what you see? Visit the ' +\n",
              "            '<a target=\"_blank\" href=https://colab.research.google.com/notebooks/data_table.ipynb>data table notebook</a>'\n",
              "            + ' to learn more about interactive tables.';\n",
              "          element.innerHTML = '';\n",
              "          dataTable['output_type'] = 'display_data';\n",
              "          await google.colab.output.renderOutput(dataTable, element);\n",
              "          const docLink = document.createElement('div');\n",
              "          docLink.innerHTML = docLinkHtml;\n",
              "          element.appendChild(docLink);\n",
              "        }\n",
              "      </script>\n",
              "    </div>\n",
              "  </div>\n",
              "  "
            ]
          },
          "metadata": {},
          "execution_count": 6
        }
      ]
    },
    {
      "cell_type": "code",
      "source": [
        "dfr.describe()"
      ],
      "metadata": {
        "colab": {
          "base_uri": "https://localhost:8080/",
          "height": 300
        },
        "id": "VJupQAErb-x9",
        "outputId": "8cf78a73-3163-4a6a-91de-469320dc3c2d"
      },
      "id": "VJupQAErb-x9",
      "execution_count": 7,
      "outputs": [
        {
          "output_type": "execute_result",
          "data": {
            "text/plain": [
              "             Label        count\n",
              "count  1689.000000  1689.000000\n",
              "mean      0.477205    99.060391\n",
              "std       0.499628    70.802207\n",
              "min       0.000000     3.000000\n",
              "25%       0.000000    55.000000\n",
              "50%       0.000000    90.000000\n",
              "75%       1.000000   128.000000\n",
              "max       1.000000  1468.000000"
            ],
            "text/html": [
              "\n",
              "  <div id=\"df-46bb3b09-b9fa-4083-b095-28bce3741e74\">\n",
              "    <div class=\"colab-df-container\">\n",
              "      <div>\n",
              "<style scoped>\n",
              "    .dataframe tbody tr th:only-of-type {\n",
              "        vertical-align: middle;\n",
              "    }\n",
              "\n",
              "    .dataframe tbody tr th {\n",
              "        vertical-align: top;\n",
              "    }\n",
              "\n",
              "    .dataframe thead th {\n",
              "        text-align: right;\n",
              "    }\n",
              "</style>\n",
              "<table border=\"1\" class=\"dataframe\">\n",
              "  <thead>\n",
              "    <tr style=\"text-align: right;\">\n",
              "      <th></th>\n",
              "      <th>Label</th>\n",
              "      <th>count</th>\n",
              "    </tr>\n",
              "  </thead>\n",
              "  <tbody>\n",
              "    <tr>\n",
              "      <th>count</th>\n",
              "      <td>1689.000000</td>\n",
              "      <td>1689.000000</td>\n",
              "    </tr>\n",
              "    <tr>\n",
              "      <th>mean</th>\n",
              "      <td>0.477205</td>\n",
              "      <td>99.060391</td>\n",
              "    </tr>\n",
              "    <tr>\n",
              "      <th>std</th>\n",
              "      <td>0.499628</td>\n",
              "      <td>70.802207</td>\n",
              "    </tr>\n",
              "    <tr>\n",
              "      <th>min</th>\n",
              "      <td>0.000000</td>\n",
              "      <td>3.000000</td>\n",
              "    </tr>\n",
              "    <tr>\n",
              "      <th>25%</th>\n",
              "      <td>0.000000</td>\n",
              "      <td>55.000000</td>\n",
              "    </tr>\n",
              "    <tr>\n",
              "      <th>50%</th>\n",
              "      <td>0.000000</td>\n",
              "      <td>90.000000</td>\n",
              "    </tr>\n",
              "    <tr>\n",
              "      <th>75%</th>\n",
              "      <td>1.000000</td>\n",
              "      <td>128.000000</td>\n",
              "    </tr>\n",
              "    <tr>\n",
              "      <th>max</th>\n",
              "      <td>1.000000</td>\n",
              "      <td>1468.000000</td>\n",
              "    </tr>\n",
              "  </tbody>\n",
              "</table>\n",
              "</div>\n",
              "      <button class=\"colab-df-convert\" onclick=\"convertToInteractive('df-46bb3b09-b9fa-4083-b095-28bce3741e74')\"\n",
              "              title=\"Convert this dataframe to an interactive table.\"\n",
              "              style=\"display:none;\">\n",
              "        \n",
              "  <svg xmlns=\"http://www.w3.org/2000/svg\" height=\"24px\"viewBox=\"0 0 24 24\"\n",
              "       width=\"24px\">\n",
              "    <path d=\"M0 0h24v24H0V0z\" fill=\"none\"/>\n",
              "    <path d=\"M18.56 5.44l.94 2.06.94-2.06 2.06-.94-2.06-.94-.94-2.06-.94 2.06-2.06.94zm-11 1L8.5 8.5l.94-2.06 2.06-.94-2.06-.94L8.5 2.5l-.94 2.06-2.06.94zm10 10l.94 2.06.94-2.06 2.06-.94-2.06-.94-.94-2.06-.94 2.06-2.06.94z\"/><path d=\"M17.41 7.96l-1.37-1.37c-.4-.4-.92-.59-1.43-.59-.52 0-1.04.2-1.43.59L10.3 9.45l-7.72 7.72c-.78.78-.78 2.05 0 2.83L4 21.41c.39.39.9.59 1.41.59.51 0 1.02-.2 1.41-.59l7.78-7.78 2.81-2.81c.8-.78.8-2.07 0-2.86zM5.41 20L4 18.59l7.72-7.72 1.47 1.35L5.41 20z\"/>\n",
              "  </svg>\n",
              "      </button>\n",
              "      \n",
              "  <style>\n",
              "    .colab-df-container {\n",
              "      display:flex;\n",
              "      flex-wrap:wrap;\n",
              "      gap: 12px;\n",
              "    }\n",
              "\n",
              "    .colab-df-convert {\n",
              "      background-color: #E8F0FE;\n",
              "      border: none;\n",
              "      border-radius: 50%;\n",
              "      cursor: pointer;\n",
              "      display: none;\n",
              "      fill: #1967D2;\n",
              "      height: 32px;\n",
              "      padding: 0 0 0 0;\n",
              "      width: 32px;\n",
              "    }\n",
              "\n",
              "    .colab-df-convert:hover {\n",
              "      background-color: #E2EBFA;\n",
              "      box-shadow: 0px 1px 2px rgba(60, 64, 67, 0.3), 0px 1px 3px 1px rgba(60, 64, 67, 0.15);\n",
              "      fill: #174EA6;\n",
              "    }\n",
              "\n",
              "    [theme=dark] .colab-df-convert {\n",
              "      background-color: #3B4455;\n",
              "      fill: #D2E3FC;\n",
              "    }\n",
              "\n",
              "    [theme=dark] .colab-df-convert:hover {\n",
              "      background-color: #434B5C;\n",
              "      box-shadow: 0px 1px 3px 1px rgba(0, 0, 0, 0.15);\n",
              "      filter: drop-shadow(0px 1px 2px rgba(0, 0, 0, 0.3));\n",
              "      fill: #FFFFFF;\n",
              "    }\n",
              "  </style>\n",
              "\n",
              "      <script>\n",
              "        const buttonEl =\n",
              "          document.querySelector('#df-46bb3b09-b9fa-4083-b095-28bce3741e74 button.colab-df-convert');\n",
              "        buttonEl.style.display =\n",
              "          google.colab.kernel.accessAllowed ? 'block' : 'none';\n",
              "\n",
              "        async function convertToInteractive(key) {\n",
              "          const element = document.querySelector('#df-46bb3b09-b9fa-4083-b095-28bce3741e74');\n",
              "          const dataTable =\n",
              "            await google.colab.kernel.invokeFunction('convertToInteractive',\n",
              "                                                     [key], {});\n",
              "          if (!dataTable) return;\n",
              "\n",
              "          const docLinkHtml = 'Like what you see? Visit the ' +\n",
              "            '<a target=\"_blank\" href=https://colab.research.google.com/notebooks/data_table.ipynb>data table notebook</a>'\n",
              "            + ' to learn more about interactive tables.';\n",
              "          element.innerHTML = '';\n",
              "          dataTable['output_type'] = 'display_data';\n",
              "          await google.colab.output.renderOutput(dataTable, element);\n",
              "          const docLink = document.createElement('div');\n",
              "          docLink.innerHTML = docLinkHtml;\n",
              "          element.appendChild(docLink);\n",
              "        }\n",
              "      </script>\n",
              "    </div>\n",
              "  </div>\n",
              "  "
            ]
          },
          "metadata": {},
          "execution_count": 7
        }
      ]
    },
    {
      "cell_type": "code",
      "source": [
        "import matplotlib.pyplot as plt\n",
        "import seaborn as sns\n",
        "plt.figure(figsize= (8, 8))\n",
        "\n",
        "sns.displot(dfr['count'])\n",
        "\n",
        "plt.xlim(0, 1000)\n",
        "\n",
        "plt.xlabel('The num of words ', fontsize = 16)\n",
        "plt.title(\"The Number of Words Distribution\", fontsize = 18)\n",
        "plt.show()"
      ],
      "metadata": {
        "colab": {
          "base_uri": "https://localhost:8080/",
          "height": 558
        },
        "id": "Tota27EnczoI",
        "outputId": "08701326-6c23-4379-eaf6-4fe194358f3a"
      },
      "id": "Tota27EnczoI",
      "execution_count": 8,
      "outputs": [
        {
          "output_type": "display_data",
          "data": {
            "text/plain": [
              "<Figure size 800x800 with 0 Axes>"
            ]
          },
          "metadata": {}
        },
        {
          "output_type": "display_data",
          "data": {
            "text/plain": [
              "<Figure size 500x500 with 1 Axes>"
            ],
            "image/png": "[encoded data removed]"
          },
          "metadata": {}
        }
      ]
    },
    {
      "cell_type": "markdown",
      "source": [
        "From the above figure it can be said that most of the words are concentrated in the range of 50-200. Model can tokenize till 512. "
      ],
      "metadata": {
        "id": "Yg-3SANDdOR1"
      },
      "id": "Yg-3SANDdOR1"
    },
    {
      "cell_type": "code",
      "execution_count": 9,
      "id": "ad222f60-d302-4617-a623-983b8555202c",
      "metadata": {
        "id": "ad222f60-d302-4617-a623-983b8555202c"
      },
      "outputs": [],
      "source": [
        "from collections import Counter\n",
        "def counter_word(text):\n",
        "    count=Counter()\n",
        "    for i in text.values:\n",
        "        for word in i.split():\n",
        "            count[word] +=1\n",
        "            \n",
        "    return count"
      ]
    },
    {
      "cell_type": "code",
      "execution_count": 10,
      "id": "eb0e52ff-5320-4623-892b-34d79ede6d99",
      "metadata": {
        "id": "eb0e52ff-5320-4623-892b-34d79ede6d99"
      },
      "outputs": [],
      "source": [
        "text=dfr.Comment \n",
        "counter=counter_word(text)\n"
      ]
    },
    {
      "cell_type": "code",
      "execution_count": 11,
      "id": "b94a3159-7356-4cb3-9ece-c769803d67db",
      "metadata": {
        "colab": {
          "base_uri": "https://localhost:8080/"
        },
        "id": "b94a3159-7356-4cb3-9ece-c769803d67db",
        "outputId": "aebc75b9-751c-4609-9f11-9aea911b9f57"
      },
      "outputs": [
        {
          "output_type": "execute_result",
          "data": {
            "text/plain": [
              "13321"
            ]
          },
          "metadata": {},
          "execution_count": 11
        }
      ],
      "source": [
        "len(counter)"
      ]
    },
    {
      "cell_type": "code",
      "execution_count": 12,
      "id": "f4d8bcb0-0c69-4173-8b68-da90e70f1deb",
      "metadata": {
        "id": "f4d8bcb0-0c69-4173-8b68-da90e70f1deb"
      },
      "outputs": [],
      "source": [
        "# counter"
      ]
    },
    {
      "cell_type": "code",
      "execution_count": 13,
      "id": "61dea5fe-a6ce-4794-96a9-99e9c2c7ed5e",
      "metadata": {
        "id": "61dea5fe-a6ce-4794-96a9-99e9c2c7ed5e"
      },
      "outputs": [],
      "source": [
        "num_words=len(counter)\n",
        "max_length=100"
      ]
    },
    {
      "cell_type": "code",
      "execution_count": 14,
      "id": "17616961-ea98-4a71-80b2-70360ab49742",
      "metadata": {
        "id": "17616961-ea98-4a71-80b2-70360ab49742"
      },
      "outputs": [],
      "source": [
        "X=dfr.Comment\n",
        "# X"
      ]
    },
    {
      "cell_type": "code",
      "execution_count": 15,
      "id": "57c2ec9a-cf20-46cb-9a3b-03f098c1e253",
      "metadata": {
        "id": "57c2ec9a-cf20-46cb-9a3b-03f098c1e253"
      },
      "outputs": [],
      "source": [
        "y=dfr.Label\n",
        "# y"
      ]
    },
    {
      "cell_type": "code",
      "execution_count": 16,
      "id": "be7b4089-1e14-44fc-a430-3c7dc637689a",
      "metadata": {
        "id": "be7b4089-1e14-44fc-a430-3c7dc637689a"
      },
      "outputs": [],
      "source": [
        "from sklearn.model_selection import train_test_split\n",
        "X_train, X_test, y_train, y_test=train_test_split(X,y, test_size=0.2) "
      ]
    },
    {
      "cell_type": "code",
      "source": [
        "len(X_train)"
      ],
      "metadata": {
        "colab": {
          "base_uri": "https://localhost:8080/"
        },
        "id": "Ipo8-GHrGutB",
        "outputId": "6b3045bf-5489-4fc2-f1cf-b832a43081fb"
      },
      "id": "Ipo8-GHrGutB",
      "execution_count": 17,
      "outputs": [
        {
          "output_type": "execute_result",
          "data": {
            "text/plain": [
              "1351"
            ]
          },
          "metadata": {},
          "execution_count": 17
        }
      ]
    },
    {
      "cell_type": "code",
      "execution_count": 18,
      "id": "222b020f-1b85-4162-a964-0c52892c8b21",
      "metadata": {
        "id": "222b020f-1b85-4162-a964-0c52892c8b21"
      },
      "outputs": [],
      "source": [
        "import tensorflow as tf "
      ]
    },
    {
      "cell_type": "code",
      "execution_count": 19,
      "id": "7200d0fd-a6a6-4d28-94e2-6dbd3c065af6",
      "metadata": {
        "id": "7200d0fd-a6a6-4d28-94e2-6dbd3c065af6"
      },
      "outputs": [],
      "source": [
        "from keras.preprocessing.text import Tokenizer\n",
        "tokenizer=Tokenizer(num_words=num_words)\n",
        "tokenizer.fit_on_texts(X_train)"
      ]
    },
    {
      "cell_type": "code",
      "execution_count": 20,
      "id": "b9118faf-b622-45e4-a3b7-91e94657ed53",
      "metadata": {
        "id": "b9118faf-b622-45e4-a3b7-91e94657ed53"
      },
      "outputs": [],
      "source": [
        "word_index=tokenizer.word_index"
      ]
    },
    {
      "cell_type": "code",
      "execution_count": 21,
      "id": "0bf4401f-596a-4417-b1aa-742c096c5914",
      "metadata": {
        "id": "0bf4401f-596a-4417-b1aa-742c096c5914"
      },
      "outputs": [],
      "source": [
        "# word_index"
      ]
    },
    {
      "cell_type": "code",
      "execution_count": 22,
      "id": "99b4364e-4cc2-4601-96e4-df50a139ce42",
      "metadata": {
        "id": "99b4364e-4cc2-4601-96e4-df50a139ce42"
      },
      "outputs": [],
      "source": [
        "train_sequences=tokenizer.texts_to_sequences(X_train)"
      ]
    },
    {
      "cell_type": "code",
      "execution_count": 23,
      "id": "9c31a243-c62b-4b00-af39-62d06cf40da5",
      "metadata": {
        "id": "9c31a243-c62b-4b00-af39-62d06cf40da5"
      },
      "outputs": [],
      "source": [
        "# it shows how first comment is renamed and tokenized\n",
        "# train_sequences[0]"
      ]
    },
    {
      "cell_type": "code",
      "execution_count": 24,
      "id": "55fb0e38-1280-4612-93c5-552864af1955",
      "metadata": {
        "id": "55fb0e38-1280-4612-93c5-552864af1955"
      },
      "outputs": [],
      "source": [
        "import keras"
      ]
    },
    {
      "cell_type": "code",
      "execution_count": 25,
      "id": "58f9c167-4608-41af-9f9b-55818ff26081",
      "metadata": {
        "colab": {
          "base_uri": "https://localhost:8080/"
        },
        "id": "58f9c167-4608-41af-9f9b-55818ff26081",
        "outputId": "8586ca89-d555-4c3d-adaa-dea5c935491e"
      },
      "outputs": [
        {
          "output_type": "stream",
          "name": "stdout",
          "text": [
            "2.12.0\n"
          ]
        }
      ],
      "source": [
        "print(keras.__version__)"
      ]
    },
    {
      "cell_type": "code",
      "execution_count": 26,
      "id": "cc25f12f-ffb5-40c6-8eee-06d1254dc0ed",
      "metadata": {
        "id": "cc25f12f-ffb5-40c6-8eee-06d1254dc0ed"
      },
      "outputs": [],
      "source": [
        "# from keras.preprocessing.sequence import pad_sequences\n",
        "from keras.utils import pad_sequences"
      ]
    },
    {
      "cell_type": "code",
      "execution_count": 27,
      "id": "6de9e01d-8d86-46e2-b107-0e633c67ecb0",
      "metadata": {
        "id": "6de9e01d-8d86-46e2-b107-0e633c67ecb0"
      },
      "outputs": [],
      "source": [
        "train_padded = pad_sequences(train_sequences, maxlen=max_length, padding=\"post\", truncating=\"post\")"
      ]
    },
    {
      "cell_type": "code",
      "source": [
        "train_padded[1]"
      ],
      "metadata": {
        "colab": {
          "base_uri": "https://localhost:8080/"
        },
        "id": "aYJgSowsMiLo",
        "outputId": "aa87c389-67f4-44ac-9301-bdcfb5bfed57"
      },
      "id": "aYJgSowsMiLo",
      "execution_count": 28,
      "outputs": [
        {
          "output_type": "execute_result",
          "data": {
            "text/plain": [
              "array([   6, 2454,   88,  428,   39,  142,    4, 2080,    1,   89,   10,\n",
              "         44, 2991, 4172,  291,   94,  250,  559,    3,  307,  926, 1028,\n",
              "          6,   15,  267,  689, 1832,   26,   39,  167, 2992,   44, 4173,\n",
              "         14, 1082,   70,  746,    4, 1357,  372,  605,   11,   36,   89,\n",
              "          4,  780, 2455,  148,  160,  102,  515,    9,  342,  124,   24,\n",
              "         56,  385,  173,  330,   60,   24,  625,    6, 4174,    6,   79,\n",
              "        180,  667, 1474,    3,   39,  746,  167,   14, 2081,   65,    1,\n",
              "       1635, 1636,    1, 2993,   13,  157, 2456,  591,  439, 1252,   70,\n",
              "       4175,  373,   71, 2994,   41,   54,   69,   24,  142,  298,  124,\n",
              "        926], dtype=int32)"
            ]
          },
          "metadata": {},
          "execution_count": 28
        }
      ]
    },
    {
      "cell_type": "code",
      "source": [
        "# padding test data\n",
        "\n",
        "test_sequences = tokenizer.texts_to_sequences(X_test)"
      ],
      "metadata": {
        "id": "1L5OcjWdMm4c"
      },
      "id": "1L5OcjWdMm4c",
      "execution_count": 29,
      "outputs": []
    },
    {
      "cell_type": "code",
      "source": [
        "# test_sequences[0]\n",
        "\n",
        "test_padded = pad_sequences(test_sequences, maxlen=max_length, padding=\"post\", truncating=\"post\")"
      ],
      "metadata": {
        "id": "YARtoyXWMqqm"
      },
      "id": "YARtoyXWMqqm",
      "execution_count": 30,
      "outputs": []
    },
    {
      "cell_type": "code",
      "source": [
        "# X_train.head()"
      ],
      "metadata": {
        "id": "yVMYHwsi6NAm"
      },
      "id": "yVMYHwsi6NAm",
      "execution_count": 31,
      "outputs": []
    },
    {
      "cell_type": "code",
      "source": [
        "print(dfr.Comment[374])\n",
        "print(train_sequences[374])"
      ],
      "metadata": {
        "colab": {
          "base_uri": "https://localhost:8080/"
        },
        "id": "Xh4bJ-qVMtV5",
        "outputId": "9765e3f7-aa43-4cb3-c3bf-adb8b9786b3e"
      },
      "id": "Xh4bJ-qVMtV5",
      "execution_count": 32,
      "outputs": [
        {
          "output_type": "stream",
          "name": "stdout",
          "text": [
            "My name is Clarence **, I was currently a full time Uber driver, Uber decided to deactivate my account which was my bread & butter for more than 13 months straight, I have a 4.90 Uber rating and I have drove more than 4800+ folks with awesome compliments, my bills which included car payment and insurance, rent and etc. My car that I financed a year ago was strictly for Uber, now I'm on the edge of losing my car and other things that matter. Please can someone help me as Uber has deactivated my account for a annual background check, I've been working for Uber for over a year and I have passed the requirements to become a Uber driver, so my question to Uber is why? Why me? And I've still haven't gotten a good response and I've been telling them about my bills and situation and they seem not to care.\n",
            "[33, 10, 3548, 3549, 1, 6, 17, 7, 596, 4, 597, 25, 33, 10, 692, 283, 39, 67, 18, 250, 53, 11, 1, 46, 50, 414, 617, 38, 876, 855, 3, 382, 119, 3, 133, 1, 17, 7, 18, 649, 423, 50, 597, 23, 7, 8, 107, 1378, 21, 122, 6]\n"
          ]
        }
      ]
    },
    {
      "cell_type": "code",
      "source": [
        "# checking inverse"
      ],
      "metadata": {
        "id": "-S-Lk6EyMvz8"
      },
      "id": "-S-Lk6EyMvz8",
      "execution_count": 33,
      "outputs": []
    },
    {
      "cell_type": "code",
      "source": [
        "print(train_padded.shape)\n",
        "test_padded.shape"
      ],
      "metadata": {
        "colab": {
          "base_uri": "https://localhost:8080/"
        },
        "id": "tqPlE760MzbX",
        "outputId": "a2b3ba58-0066-449c-870e-25587c4edd7d"
      },
      "id": "tqPlE760MzbX",
      "execution_count": 34,
      "outputs": [
        {
          "output_type": "stream",
          "name": "stdout",
          "text": [
            "(1351, 100)\n"
          ]
        },
        {
          "output_type": "execute_result",
          "data": {
            "text/plain": [
              "(338, 100)"
            ]
          },
          "metadata": {},
          "execution_count": 34
        }
      ]
    },
    {
      "cell_type": "code",
      "source": [
        "from keras.models import Sequential \n",
        "from keras.layers import Embedding, LSTM, Dense, Dropout\n",
        "from keras.initializers import Constant\n",
        "from keras.optimizers import Adam\n",
        "\n",
        "model=Sequential()\n",
        "\n",
        "model.add(Embedding(num_words, 32, input_length=max_length))\n",
        "model.add(LSTM(64, dropout=0.1))\n",
        "model.add(Dense(1, activation=\"sigmoid\"))\n",
        "\n",
        "optimizer=Adam(learning_rate=3e-4)\n",
        "          \n",
        "model.compile(loss=\"binary_crossentropy\", optimizer=optimizer, metrics=[\"accuracy\"])\n"
      ],
      "metadata": {
        "id": "-WuayAzIM1jr"
      },
      "id": "-WuayAzIM1jr",
      "execution_count": 35,
      "outputs": []
    },
    {
      "cell_type": "code",
      "source": [
        "model.summary()"
      ],
      "metadata": {
        "colab": {
          "base_uri": "https://localhost:8080/"
        },
        "id": "JKMyiHw3M5Ky",
        "outputId": "23c2a0c6-8d09-465b-c0b7-20c0e70324ae"
      },
      "id": "JKMyiHw3M5Ky",
      "execution_count": 36,
      "outputs": [
        {
          "output_type": "stream",
          "name": "stdout",
          "text": [
            "Model: \"sequential\"\n",
            "_________________________________________________________________\n",
            " Layer (type)                Output Shape              Param #   \n",
            "=================================================================\n",
            " embedding (Embedding)       (None, 100, 32)           426272    \n",
            "                                                                 \n",
            " lstm (LSTM)                 (None, 64)                24832     \n",
            "                                                                 \n",
            " dense (Dense)               (None, 1)                 65        \n",
            "                                                                 \n",
            "=================================================================\n",
            "Total params: 451,169\n",
            "Trainable params: 451,169\n",
            "Non-trainable params: 0\n",
            "_________________________________________________________________\n"
          ]
        }
      ]
    },
    {
      "cell_type": "code",
      "source": [
        "# y_test"
      ],
      "metadata": {
        "id": "UM8Glhi2Nzxj"
      },
      "id": "UM8Glhi2Nzxj",
      "execution_count": 37,
      "outputs": []
    },
    {
      "cell_type": "code",
      "source": [
        "# y_train"
      ],
      "metadata": {
        "id": "_KakmdbUOEXn"
      },
      "id": "_KakmdbUOEXn",
      "execution_count": 38,
      "outputs": []
    },
    {
      "cell_type": "code",
      "source": [
        "model.fit(train_padded, y_train, epochs=50)"
      ],
      "metadata": {
        "colab": {
          "base_uri": "https://localhost:8080/"
        },
        "id": "Kam-eJaWNDqk",
        "outputId": "44f22a9d-7f28-49fc-8630-4c3169be11fe"
      },
      "id": "Kam-eJaWNDqk",
      "execution_count": 39,
      "outputs": [
        {
          "output_type": "stream",
          "name": "stdout",
          "text": [
            "Epoch 1/50\n",
            "43/43 [==============================] - 3s 9ms/step - loss: 0.6925 - accuracy: 0.5100\n",
            "Epoch 2/50\n",
            "43/43 [==============================] - 0s 7ms/step - loss: 0.6904 - accuracy: 0.5255\n",
            "Epoch 3/50\n",
            "43/43 [==============================] - 0s 7ms/step - loss: 0.6885 - accuracy: 0.5278\n",
            "Epoch 4/50\n",
            "43/43 [==============================] - 0s 7ms/step - loss: 0.6848 - accuracy: 0.6188\n",
            "Epoch 5/50\n",
            "43/43 [==============================] - 0s 7ms/step - loss: 0.6346 - accuracy: 0.6906\n",
            "Epoch 6/50\n",
            "43/43 [==============================] - 0s 7ms/step - loss: 0.5069 - accuracy: 0.7735\n",
            "Epoch 7/50\n",
            "43/43 [==============================] - 0s 7ms/step - loss: 0.3544 - accuracy: 0.8623\n",
            "Epoch 8/50\n",
            "43/43 [==============================] - 0s 7ms/step - loss: 0.2618 - accuracy: 0.9193\n",
            "Epoch 9/50\n",
            "43/43 [==============================] - 0s 7ms/step - loss: 0.2024 - accuracy: 0.9445\n",
            "Epoch 10/50\n",
            "43/43 [==============================] - 0s 7ms/step - loss: 0.1477 - accuracy: 0.9600\n",
            "Epoch 11/50\n",
            "43/43 [==============================] - 0s 7ms/step - loss: 0.1559 - accuracy: 0.9541\n",
            "Epoch 12/50\n",
            "43/43 [==============================] - 0s 10ms/step - loss: 0.0985 - accuracy: 0.9785\n",
            "Epoch 13/50\n",
            "43/43 [==============================] - 0s 10ms/step - loss: 0.0686 - accuracy: 0.9852\n",
            "Epoch 14/50\n",
            "43/43 [==============================] - 0s 10ms/step - loss: 0.0598 - accuracy: 0.9874\n",
            "Epoch 15/50\n",
            "43/43 [==============================] - 0s 10ms/step - loss: 0.0446 - accuracy: 0.9911\n",
            "Epoch 16/50\n",
            "43/43 [==============================] - 0s 10ms/step - loss: 0.0905 - accuracy: 0.9808\n",
            "Epoch 17/50\n",
            "43/43 [==============================] - 0s 10ms/step - loss: 0.0604 - accuracy: 0.9867\n",
            "Epoch 18/50\n",
            "43/43 [==============================] - 0s 7ms/step - loss: 0.0463 - accuracy: 0.9919\n",
            "Epoch 19/50\n",
            "43/43 [==============================] - 0s 7ms/step - loss: 0.0396 - accuracy: 0.9941\n",
            "Epoch 20/50\n",
            "43/43 [==============================] - 0s 7ms/step - loss: 0.0603 - accuracy: 0.9889\n",
            "Epoch 21/50\n",
            "43/43 [==============================] - 0s 7ms/step - loss: 0.0392 - accuracy: 0.9933\n",
            "Epoch 22/50\n",
            "43/43 [==============================] - 0s 7ms/step - loss: 0.0475 - accuracy: 0.9911\n",
            "Epoch 23/50\n",
            "43/43 [==============================] - 0s 6ms/step - loss: 0.0425 - accuracy: 0.9904\n",
            "Epoch 24/50\n",
            "43/43 [==============================] - 0s 7ms/step - loss: 0.0321 - accuracy: 0.9941\n",
            "Epoch 25/50\n",
            "43/43 [==============================] - 0s 7ms/step - loss: 0.0306 - accuracy: 0.9948\n",
            "Epoch 26/50\n",
            "43/43 [==============================] - 0s 7ms/step - loss: 0.0393 - accuracy: 0.9933\n",
            "Epoch 27/50\n",
            "43/43 [==============================] - 0s 7ms/step - loss: 0.0373 - accuracy: 0.9933\n",
            "Epoch 28/50\n",
            "43/43 [==============================] - 0s 7ms/step - loss: 0.0331 - accuracy: 0.9948\n",
            "Epoch 29/50\n",
            "43/43 [==============================] - 0s 7ms/step - loss: 0.0340 - accuracy: 0.9948\n",
            "Epoch 30/50\n",
            "43/43 [==============================] - 0s 7ms/step - loss: 0.0363 - accuracy: 0.9933\n",
            "Epoch 31/50\n",
            "43/43 [==============================] - 0s 7ms/step - loss: 0.0330 - accuracy: 0.9941\n",
            "Epoch 32/50\n",
            "43/43 [==============================] - 0s 7ms/step - loss: 0.0328 - accuracy: 0.9948\n",
            "Epoch 33/50\n",
            "43/43 [==============================] - 0s 7ms/step - loss: 0.0360 - accuracy: 0.9941\n",
            "Epoch 34/50\n",
            "43/43 [==============================] - 0s 7ms/step - loss: 0.0350 - accuracy: 0.9926\n",
            "Epoch 35/50\n",
            "43/43 [==============================] - 0s 7ms/step - loss: 0.0317 - accuracy: 0.9941\n",
            "Epoch 36/50\n",
            "43/43 [==============================] - 0s 7ms/step - loss: 0.0292 - accuracy: 0.9933\n",
            "Epoch 37/50\n",
            "43/43 [==============================] - 0s 7ms/step - loss: 0.0359 - accuracy: 0.9933\n",
            "Epoch 38/50\n",
            "43/43 [==============================] - 0s 6ms/step - loss: 0.0301 - accuracy: 0.9941\n",
            "Epoch 39/50\n",
            "43/43 [==============================] - 0s 7ms/step - loss: 0.0303 - accuracy: 0.9948\n",
            "Epoch 40/50\n",
            "43/43 [==============================] - 0s 6ms/step - loss: 0.0320 - accuracy: 0.9933\n",
            "Epoch 41/50\n",
            "43/43 [==============================] - 0s 7ms/step - loss: 0.0345 - accuracy: 0.9941\n",
            "Epoch 42/50\n",
            "43/43 [==============================] - 0s 7ms/step - loss: 0.0461 - accuracy: 0.9896\n",
            "Epoch 43/50\n",
            "43/43 [==============================] - 0s 7ms/step - loss: 0.0312 - accuracy: 0.9941\n",
            "Epoch 44/50\n",
            "43/43 [==============================] - 0s 7ms/step - loss: 0.0330 - accuracy: 0.9926\n",
            "Epoch 45/50\n",
            "43/43 [==============================] - 0s 7ms/step - loss: 0.0265 - accuracy: 0.9963\n",
            "Epoch 46/50\n",
            "43/43 [==============================] - 0s 7ms/step - loss: 0.0268 - accuracy: 0.9948\n",
            "Epoch 47/50\n",
            "43/43 [==============================] - 0s 6ms/step - loss: 0.0297 - accuracy: 0.9948\n",
            "Epoch 48/50\n",
            "43/43 [==============================] - 0s 7ms/step - loss: 0.0256 - accuracy: 0.9933\n",
            "Epoch 49/50\n",
            "43/43 [==============================] - 0s 7ms/step - loss: 0.0262 - accuracy: 0.9948\n",
            "Epoch 50/50\n",
            "43/43 [==============================] - 0s 6ms/step - loss: 0.0277 - accuracy: 0.9948\n"
          ]
        },
        {
          "output_type": "execute_result",
          "data": {
            "text/plain": [
              "<keras.callbacks.History at 0x7fa8d247edc0>"
            ]
          },
          "metadata": {},
          "execution_count": 39
        }
      ]
    },
    {
      "cell_type": "code",
      "source": [
        "# test_padded[0]"
      ],
      "metadata": {
        "id": "aaWIBQB8-fIq"
      },
      "id": "aaWIBQB8-fIq",
      "execution_count": 40,
      "outputs": []
    },
    {
      "cell_type": "code",
      "source": [
        "pred1=model.predict(test_padded)"
      ],
      "metadata": {
        "id": "J6srEbEiNgKg",
        "colab": {
          "base_uri": "https://localhost:8080/"
        },
        "outputId": "45279ab7-21b4-46b2-e021-c9280ea566b0"
      },
      "id": "J6srEbEiNgKg",
      "execution_count": 41,
      "outputs": [
        {
          "output_type": "stream",
          "name": "stdout",
          "text": [
            "11/11 [==============================] - 0s 4ms/step\n"
          ]
        }
      ]
    },
    {
      "cell_type": "code",
      "source": [
        "# pred1"
      ],
      "metadata": {
        "id": "QBjG8IYx7HKM"
      },
      "id": "QBjG8IYx7HKM",
      "execution_count": 42,
      "outputs": []
    },
    {
      "cell_type": "code",
      "source": [
        "# since the above prediction values are float values, convert them into integers \n",
        "\n",
        "pred2=pred1.flatten()\n",
        "# pred2"
      ],
      "metadata": {
        "id": "iVR2OupD9EBT"
      },
      "id": "iVR2OupD9EBT",
      "execution_count": 43,
      "outputs": []
    },
    {
      "cell_type": "code",
      "source": [
        "import numpy as np\n",
        "\n",
        "y_predicted = np.where(pred2 > 0.3, 1, 0)\n",
        "y_predicted"
      ],
      "metadata": {
        "colab": {
          "base_uri": "https://localhost:8080/"
        },
        "id": "p2q09Koy9gDC",
        "outputId": "eb086449-ae47-4a07-c34f-479239ffcdbd"
      },
      "id": "p2q09Koy9gDC",
      "execution_count": 44,
      "outputs": [
        {
          "output_type": "execute_result",
          "data": {
            "text/plain": [
              "array([0, 0, 1, 1, 0, 0, 1, 0, 0, 1, 0, 1, 1, 0, 0, 1, 1, 1, 1, 1, 0, 0,\n",
              "       0, 0, 0, 1, 1, 1, 0, 1, 1, 1, 1, 0, 1, 0, 0, 1, 0, 1, 0, 0, 1, 1,\n",
              "       1, 1, 0, 1, 0, 1, 1, 0, 1, 0, 0, 1, 0, 0, 1, 1, 0, 0, 1, 1, 0, 0,\n",
              "       1, 1, 1, 1, 0, 0, 1, 0, 1, 1, 1, 0, 1, 0, 0, 0, 0, 1, 1, 1, 0, 0,\n",
              "       1, 1, 1, 0, 0, 1, 1, 1, 0, 1, 1, 1, 0, 1, 0, 1, 0, 0, 1, 0, 0, 0,\n",
              "       0, 0, 0, 1, 1, 0, 1, 1, 1, 1, 0, 1, 0, 1, 0, 0, 0, 1, 1, 1, 0, 1,\n",
              "       1, 1, 0, 0, 1, 0, 0, 0, 1, 0, 1, 0, 0, 0, 1, 0, 0, 1, 0, 1, 1, 1,\n",
              "       0, 1, 0, 1, 1, 1, 0, 1, 0, 1, 0, 0, 0, 1, 0, 1, 0, 0, 1, 1, 1, 0,\n",
              "       1, 0, 0, 1, 1, 0, 0, 1, 0, 0, 1, 1, 1, 1, 1, 0, 0, 1, 0, 1, 0, 1,\n",
              "       1, 1, 0, 0, 0, 0, 0, 0, 0, 0, 0, 1, 0, 0, 0, 0, 1, 0, 0, 0, 0, 0,\n",
              "       0, 0, 1, 0, 0, 1, 0, 0, 0, 1, 0, 1, 1, 0, 0, 1, 0, 0, 0, 1, 1, 0,\n",
              "       1, 0, 0, 0, 1, 1, 0, 0, 0, 1, 0, 0, 0, 0, 1, 1, 0, 0, 1, 1, 0, 0,\n",
              "       0, 1, 0, 0, 1, 1, 1, 0, 1, 1, 0, 1, 1, 1, 1, 0, 1, 0, 0, 1, 1, 0,\n",
              "       1, 1, 0, 1, 1, 1, 0, 1, 0, 0, 0, 0, 1, 1, 1, 1, 0, 1, 0, 0, 0, 1,\n",
              "       1, 0, 1, 1, 1, 1, 0, 1, 1, 0, 1, 0, 1, 1, 1, 1, 1, 0, 0, 0, 1, 0,\n",
              "       0, 1, 0, 0, 0, 1, 0, 0])"
            ]
          },
          "metadata": {},
          "execution_count": 44
        }
      ]
    },
    {
      "cell_type": "code",
      "source": [
        "# list(y_test)"
      ],
      "metadata": {
        "id": "4Ni672lB_WJe"
      },
      "id": "4Ni672lB_WJe",
      "execution_count": 45,
      "outputs": []
    },
    {
      "cell_type": "code",
      "source": [
        "from sklearn.metrics import accuracy_score, recall_score, precision_score, f1_score\n",
        "\n",
        "print('Accuracy - ', accuracy_score(y_true=y_test, y_pred=y_predicted))\n",
        "print('Recall score -', recall_score(y_true=y_test, y_pred=y_predicted))\n",
        "print('Precision score - ', precision_score(y_true=y_test, y_pred=y_predicted))\n",
        "print('F1 score - ', f1_score(y_true=y_test, y_pred=y_predicted))"
      ],
      "metadata": {
        "colab": {
          "base_uri": "https://localhost:8080/"
        },
        "id": "Z90FNicD6o8V",
        "outputId": "afcfcb92-7888-4ed5-ca85-33d168082978"
      },
      "id": "Z90FNicD6o8V",
      "execution_count": 46,
      "outputs": [
        {
          "output_type": "stream",
          "name": "stdout",
          "text": [
            "Accuracy -  0.7307692307692307\n",
            "Recall score - 0.7212121212121212\n",
            "Precision score -  0.725609756097561\n",
            "F1 score -  0.723404255319149\n"
          ]
        }
      ]
    },
    {
      "cell_type": "code",
      "source": [
        "from sklearn.metrics import mean_absolute_error\n",
        "mae=mean_absolute_error(y_test, y_predicted)\n",
        "mae"
      ],
      "metadata": {
        "colab": {
          "base_uri": "https://localhost:8080/"
        },
        "id": "IKAkCeqK-PVF",
        "outputId": "03867e79-f2a7-4885-8c67-f380b74666d4"
      },
      "id": "IKAkCeqK-PVF",
      "execution_count": 47,
      "outputs": [
        {
          "output_type": "execute_result",
          "data": {
            "text/plain": [
              "0.2692307692307692"
            ]
          },
          "metadata": {},
          "execution_count": 47
        }
      ]
    },
    {
      "cell_type": "code",
      "source": [
        "import numpy as np\n",
        "mse = np.mean((y_test - y_predicted) ** 2)\n",
        "print('The mean squared error for test dataset was found to be - ', mse)"
      ],
      "metadata": {
        "colab": {
          "base_uri": "https://localhost:8080/"
        },
        "id": "Ie5SITiOKxE7",
        "outputId": "d3a90fd9-f743-40d6-b559-b82a05d237f7"
      },
      "id": "Ie5SITiOKxE7",
      "execution_count": 48,
      "outputs": [
        {
          "output_type": "stream",
          "name": "stdout",
          "text": [
            "The mean squared error for test dataset was found to be -  0.2692307692307692\n"
          ]
        }
      ]
    },
    {
      "cell_type": "code",
      "source": [
        "from sklearn.metrics import confusion_matrix, classification_report\n",
        "\n",
        "cm = confusion_matrix(y_test, y_predicted)\n",
        "cm "
      ],
      "metadata": {
        "colab": {
          "base_uri": "https://localhost:8080/"
        },
        "id": "9qsFqPOUBaLs",
        "outputId": "0558e043-c121-420b-c562-4ca695e5f3a9"
      },
      "id": "9qsFqPOUBaLs",
      "execution_count": 49,
      "outputs": [
        {
          "output_type": "execute_result",
          "data": {
            "text/plain": [
              "array([[128,  45],\n",
              "       [ 46, 119]])"
            ]
          },
          "metadata": {},
          "execution_count": 49
        }
      ]
    },
    {
      "cell_type": "code",
      "source": [
        "# plotting confusion matrix using seaborn \n",
        "from matplotlib import pyplot as plt\n",
        "import seaborn as sn\n",
        "sn.heatmap(cm, annot=True, fmt='d')\n",
        "plt.xlabel('Predicted')\n",
        "plt.ylabel('Truth')"
      ],
      "metadata": {
        "colab": {
          "base_uri": "https://localhost:8080/",
          "height": 467
        },
        "id": "jU6j22BrBg57",
        "outputId": "f8b11211-5326-4aee-fb7d-c97c491d0339"
      },
      "id": "jU6j22BrBg57",
      "execution_count": 50,
      "outputs": [
        {
          "output_type": "execute_result",
          "data": {
            "text/plain": [
              "Text(50.722222222222214, 0.5, 'Truth')"
            ]
          },
          "metadata": {},
          "execution_count": 50
        },
        {
          "output_type": "display_data",
          "data": {
            "text/plain": [
              "<Figure size 640x480 with 2 Axes>"
            ],
            "image/png": "[encoded data removed]"
          },
          "metadata": {}
        }
      ]
    },
    {
      "cell_type": "markdown",
      "source": [
        "**Validation**"
      ],
      "metadata": {
        "id": "h8cCBZqB_hHi"
      },
      "id": "h8cCBZqB_hHi"
    },
    {
      "cell_type": "code",
      "source": [
        "# Making predictions\n",
        "\n",
        "dft=pd.read_csv(\"project_test.csv\")\n",
        "dft"
      ],
      "metadata": {
        "id": "yxkoa2LXGSV-",
        "colab": {
          "base_uri": "https://localhost:8080/",
          "height": 206
        },
        "outputId": "30aa820a-cecc-4915-f238-6bbdbd93767a"
      },
      "id": "yxkoa2LXGSV-",
      "execution_count": 51,
      "outputs": [
        {
          "output_type": "execute_result",
          "data": {
            "text/plain": [
              "   Label1                                          Comments1\n",
              "0       0  Our driver never showed up and Uber cancelled ...\n",
              "1       1  My driver, Rohan was nice, but when I tried to...\n",
              "2       1  Uber is overcharging for Toll fees. When In Fl...\n",
              "3       0  I called uber for going home two days ago and ...\n",
              "4       1  Ordering a ride, then putting your 10, 12, and..."
            ],
            "text/html": [
              "\n",
              "  <div id=\"df-8afdc074-49c8-41e7-9583-20abe51f27c8\">\n",
              "    <div class=\"colab-df-container\">\n",
              "      <div>\n",
              "<style scoped>\n",
              "    .dataframe tbody tr th:only-of-type {\n",
              "        vertical-align: middle;\n",
              "    }\n",
              "\n",
              "    .dataframe tbody tr th {\n",
              "        vertical-align: top;\n",
              "    }\n",
              "\n",
              "    .dataframe thead th {\n",
              "        text-align: right;\n",
              "    }\n",
              "</style>\n",
              "<table border=\"1\" class=\"dataframe\">\n",
              "  <thead>\n",
              "    <tr style=\"text-align: right;\">\n",
              "      <th></th>\n",
              "      <th>Label1</th>\n",
              "      <th>Comments1</th>\n",
              "    </tr>\n",
              "  </thead>\n",
              "  <tbody>\n",
              "    <tr>\n",
              "      <th>0</th>\n",
              "      <td>0</td>\n",
              "      <td>Our driver never showed up and Uber cancelled ...</td>\n",
              "    </tr>\n",
              "    <tr>\n",
              "      <th>1</th>\n",
              "      <td>1</td>\n",
              "      <td>My driver, Rohan was nice, but when I tried to...</td>\n",
              "    </tr>\n",
              "    <tr>\n",
              "      <th>2</th>\n",
              "      <td>1</td>\n",
              "      <td>Uber is overcharging for Toll fees. When In Fl...</td>\n",
              "    </tr>\n",
              "    <tr>\n",
              "      <th>3</th>\n",
              "      <td>0</td>\n",
              "      <td>I called uber for going home two days ago and ...</td>\n",
              "    </tr>\n",
              "    <tr>\n",
              "      <th>4</th>\n",
              "      <td>1</td>\n",
              "      <td>Ordering a ride, then putting your 10, 12, and...</td>\n",
              "    </tr>\n",
              "  </tbody>\n",
              "</table>\n",
              "</div>\n",
              "      <button class=\"colab-df-convert\" onclick=\"convertToInteractive('df-8afdc074-49c8-41e7-9583-20abe51f27c8')\"\n",
              "              title=\"Convert this dataframe to an interactive table.\"\n",
              "              style=\"display:none;\">\n",
              "        \n",
              "  <svg xmlns=\"http://www.w3.org/2000/svg\" height=\"24px\"viewBox=\"0 0 24 24\"\n",
              "       width=\"24px\">\n",
              "    <path d=\"M0 0h24v24H0V0z\" fill=\"none\"/>\n",
              "    <path d=\"M18.56 5.44l.94 2.06.94-2.06 2.06-.94-2.06-.94-.94-2.06-.94 2.06-2.06.94zm-11 1L8.5 8.5l.94-2.06 2.06-.94-2.06-.94L8.5 2.5l-.94 2.06-2.06.94zm10 10l.94 2.06.94-2.06 2.06-.94-2.06-.94-.94-2.06-.94 2.06-2.06.94z\"/><path d=\"M17.41 7.96l-1.37-1.37c-.4-.4-.92-.59-1.43-.59-.52 0-1.04.2-1.43.59L10.3 9.45l-7.72 7.72c-.78.78-.78 2.05 0 2.83L4 21.41c.39.39.9.59 1.41.59.51 0 1.02-.2 1.41-.59l7.78-7.78 2.81-2.81c.8-.78.8-2.07 0-2.86zM5.41 20L4 18.59l7.72-7.72 1.47 1.35L5.41 20z\"/>\n",
              "  </svg>\n",
              "      </button>\n",
              "      \n",
              "  <style>\n",
              "    .colab-df-container {\n",
              "      display:flex;\n",
              "      flex-wrap:wrap;\n",
              "      gap: 12px;\n",
              "    }\n",
              "\n",
              "    .colab-df-convert {\n",
              "      background-color: #E8F0FE;\n",
              "      border: none;\n",
              "      border-radius: 50%;\n",
              "      cursor: pointer;\n",
              "      display: none;\n",
              "      fill: #1967D2;\n",
              "      height: 32px;\n",
              "      padding: 0 0 0 0;\n",
              "      width: 32px;\n",
              "    }\n",
              "\n",
              "    .colab-df-convert:hover {\n",
              "      background-color: #E2EBFA;\n",
              "      box-shadow: 0px 1px 2px rgba(60, 64, 67, 0.3), 0px 1px 3px 1px rgba(60, 64, 67, 0.15);\n",
              "      fill: #174EA6;\n",
              "    }\n",
              "\n",
              "    [theme=dark] .colab-df-convert {\n",
              "      background-color: #3B4455;\n",
              "      fill: #D2E3FC;\n",
              "    }\n",
              "\n",
              "    [theme=dark] .colab-df-convert:hover {\n",
              "      background-color: #434B5C;\n",
              "      box-shadow: 0px 1px 3px 1px rgba(0, 0, 0, 0.15);\n",
              "      filter: drop-shadow(0px 1px 2px rgba(0, 0, 0, 0.3));\n",
              "      fill: #FFFFFF;\n",
              "    }\n",
              "  </style>\n",
              "\n",
              "      <script>\n",
              "        const buttonEl =\n",
              "          document.querySelector('#df-8afdc074-49c8-41e7-9583-20abe51f27c8 button.colab-df-convert');\n",
              "        buttonEl.style.display =\n",
              "          google.colab.kernel.accessAllowed ? 'block' : 'none';\n",
              "\n",
              "        async function convertToInteractive(key) {\n",
              "          const element = document.querySelector('#df-8afdc074-49c8-41e7-9583-20abe51f27c8');\n",
              "          const dataTable =\n",
              "            await google.colab.kernel.invokeFunction('convertToInteractive',\n",
              "                                                     [key], {});\n",
              "          if (!dataTable) return;\n",
              "\n",
              "          const docLinkHtml = 'Like what you see? Visit the ' +\n",
              "            '<a target=\"_blank\" href=https://colab.research.google.com/notebooks/data_table.ipynb>data table notebook</a>'\n",
              "            + ' to learn more about interactive tables.';\n",
              "          element.innerHTML = '';\n",
              "          dataTable['output_type'] = 'display_data';\n",
              "          await google.colab.output.renderOutput(dataTable, element);\n",
              "          const docLink = document.createElement('div');\n",
              "          docLink.innerHTML = docLinkHtml;\n",
              "          element.appendChild(docLink);\n",
              "        }\n",
              "      </script>\n",
              "    </div>\n",
              "  </div>\n",
              "  "
            ]
          },
          "metadata": {},
          "execution_count": 51
        }
      ]
    },
    {
      "cell_type": "code",
      "source": [
        "dft_comments=dft.Comments1\n",
        "dft_comments"
      ],
      "metadata": {
        "colab": {
          "base_uri": "https://localhost:8080/"
        },
        "id": "p7q8yML7vivX",
        "outputId": "bebd8e55-7d4b-4647-8148-f860c054567b"
      },
      "id": "p7q8yML7vivX",
      "execution_count": 52,
      "outputs": [
        {
          "output_type": "execute_result",
          "data": {
            "text/plain": [
              "0    Our driver never showed up and Uber cancelled ...\n",
              "1    My driver, Rohan was nice, but when I tried to...\n",
              "2    Uber is overcharging for Toll fees. When In Fl...\n",
              "3    I called uber for going home two days ago and ...\n",
              "4    Ordering a ride, then putting your 10, 12, and...\n",
              "Name: Comments1, dtype: object"
            ]
          },
          "metadata": {},
          "execution_count": 52
        }
      ]
    },
    {
      "cell_type": "code",
      "source": [
        "train_sequences_1=tokenizer.texts_to_sequences(dft_comments)"
      ],
      "metadata": {
        "id": "ZPZqoeuWvsx_"
      },
      "id": "ZPZqoeuWvsx_",
      "execution_count": 53,
      "outputs": []
    },
    {
      "cell_type": "code",
      "source": [
        "train_padded_1 = pad_sequences(train_sequences_1, maxlen=max_length, padding=\"post\", truncating=\"post\")"
      ],
      "metadata": {
        "id": "dvyi6Fz6v51T"
      },
      "id": "dvyi6Fz6v51T",
      "execution_count": 54,
      "outputs": []
    },
    {
      "cell_type": "code",
      "source": [
        "test_pred=model.predict(train_padded_1)\n",
        "test_pred"
      ],
      "metadata": {
        "colab": {
          "base_uri": "https://localhost:8080/"
        },
        "id": "osUQeTuYwBiN",
        "outputId": "e86b77fb-e5c4-442b-c87d-c1304618e7c8"
      },
      "id": "osUQeTuYwBiN",
      "execution_count": 55,
      "outputs": [
        {
          "output_type": "stream",
          "name": "stdout",
          "text": [
            "1/1 [==============================] - 0s 24ms/step\n"
          ]
        },
        {
          "output_type": "execute_result",
          "data": {
            "text/plain": [
              "array([[0.00287202],\n",
              "       [0.996396  ],\n",
              "       [0.9958657 ],\n",
              "       [0.00305123],\n",
              "       [0.00282478]], dtype=float32)"
            ]
          },
          "metadata": {},
          "execution_count": 55
        }
      ]
    },
    {
      "cell_type": "code",
      "source": [
        "test_pred2=test_pred.flatten()\n",
        "test_pred2"
      ],
      "metadata": {
        "colab": {
          "base_uri": "https://localhost:8080/"
        },
        "id": "yEwMJ99AwZxo",
        "outputId": "c7bf43e2-b200-4f81-b616-deb5478f47d1"
      },
      "id": "yEwMJ99AwZxo",
      "execution_count": 56,
      "outputs": [
        {
          "output_type": "execute_result",
          "data": {
            "text/plain": [
              "array([0.00287202, 0.996396  , 0.9958657 , 0.00305123, 0.00282478],\n",
              "      dtype=float32)"
            ]
          },
          "metadata": {},
          "execution_count": 56
        }
      ]
    },
    {
      "cell_type": "code",
      "source": [
        "test_final=np.where(test_pred2 > 0.5, 1, 0)\n",
        "test_final"
      ],
      "metadata": {
        "colab": {
          "base_uri": "https://localhost:8080/"
        },
        "id": "IlZduPMh16RG",
        "outputId": "84ec7f3c-858e-49c5-e286-6755ec29562c"
      },
      "id": "IlZduPMh16RG",
      "execution_count": 57,
      "outputs": [
        {
          "output_type": "execute_result",
          "data": {
            "text/plain": [
              "array([0, 1, 1, 0, 0])"
            ]
          },
          "metadata": {},
          "execution_count": 57
        }
      ]
    },
    {
      "cell_type": "code",
      "source": [
        "test_label=dft.Label1\n",
        "test_label"
      ],
      "metadata": {
        "colab": {
          "base_uri": "https://localhost:8080/"
        },
        "id": "hZ7_bzGk2Tkq",
        "outputId": "e1fed5e9-bdd4-43af-e21f-9c1c4c1bdd45"
      },
      "id": "hZ7_bzGk2Tkq",
      "execution_count": 58,
      "outputs": [
        {
          "output_type": "execute_result",
          "data": {
            "text/plain": [
              "0    0\n",
              "1    1\n",
              "2    1\n",
              "3    0\n",
              "4    1\n",
              "Name: Label1, dtype: int64"
            ]
          },
          "metadata": {},
          "execution_count": 58
        }
      ]
    },
    {
      "cell_type": "code",
      "source": [
        "from sklearn.metrics import accuracy_score\n",
        "accuracy=accuracy_score(test_label, test_final) \n",
        "accuracy"
      ],
      "metadata": {
        "colab": {
          "base_uri": "https://localhost:8080/"
        },
        "id": "m11WWjrE2Gzq",
        "outputId": "511ec50f-70f6-41f6-eef2-dddb07353535"
      },
      "id": "m11WWjrE2Gzq",
      "execution_count": 59,
      "outputs": [
        {
          "output_type": "execute_result",
          "data": {
            "text/plain": [
              "0.8"
            ]
          },
          "metadata": {},
          "execution_count": 59
        }
      ]
    },
    {
      "cell_type": "code",
      "source": [
        "for i in range(0,5):\n",
        "  print(dft_comments[i])\n",
        "  if (test_final[i] ==0):\n",
        "    print(\"Review - Fair(related to driver)\")\n",
        "  else:\n",
        "    print(\"Review - unfair(not related)\")  \n",
        "  print(\"\\n\")"
      ],
      "metadata": {
        "colab": {
          "base_uri": "https://localhost:8080/"
        },
        "id": "XlfvrXAx3l7R",
        "outputId": "1a174350-e989-46da-ecc1-b00d51127e17"
      },
      "id": "XlfvrXAx3l7R",
      "execution_count": 60,
      "outputs": [
        {
          "output_type": "stream",
          "name": "stdout",
          "text": [
            "Our driver never showed up and Uber cancelled our ride, not us. They charged us a cancellation fee for them cancelling. When I disputed it they would only credit it on future ride instead of refund back to our credit card. Why am I only getting a credit on account instead of a full refund to my credit card used?? This is not right what you have done when it was a Uber error.\n",
            "Review - Fair(related to driver)\n",
            "\n",
            "\n",
            "My driver, Rohan was nice, but when I tried to add tip I noticed that he had switched my $9 9am fare in French Quarter to someone else's 2pm trip in Metairie for $28.00! UBER refused to acknowledge. 5 attempts to rectify problem and received nothing but irrelevant automated replies. If you get in the car with Rohan in NOLA and he says he can't get his system to work, it's a a SCAM. Terrible customer service from UBER with zero relevant assistance after 7 days of requesting corrected bill. BEWARE.\n",
            "Review - unfair(not related)\n",
            "\n",
            "\n",
            "Uber is overcharging for Toll fees. When In Florida the Tolls fees estimates between $ .75 to $ 2.00. Uber price shown will be Example $ 16.73 for the ride. After you take the ride you get charge 28.23 and when you check the account it's telling you that you got charge for Tolls. The driver never took the toll route and you try to contact Uber company and they take long to get back to you about the issue of being overcharge. I try to email them and let them know about the extra charges and why am I being charge for a service that I didn't receive.\n",
            "Review - unfair(not related)\n",
            "\n",
            "\n",
            "I called uber for going home two days ago and yesterday they charged me extra 40$ even no one told me reason. Then I contacted uber and they told me driver complained me about I was drunk or something else they sent me stupid pictures. I didn't understand exactly what happened but I just called uber and went home even I didn't talk to driver and went home. How come no one asked me anything and they just charged me 40$ directly. I will take my money back and I will delete uber.\n",
            "Review - Fair(related to driver)\n",
            "\n",
            "\n",
            "Ordering a ride, then putting your 10, 12, and 14-year-old kids in the car and expect me to take them without you.\n",
            "Review - Fair(related to driver)\n",
            "\n",
            "\n"
          ]
        }
      ]
    }
  ],
  "metadata": {
    "kernelspec": {
      "display_name": "Python 3 (ipykernel)",
      "language": "python",
      "name": "python3"
    },
    "language_info": {
      "codemirror_mode": {
        "name": "ipython",
        "version": 3
      },
      "file_extension": ".py",
      "mimetype": "text/x-python",
      "name": "python",
      "nbconvert_exporter": "python",
      "pygments_lexer": "ipython3",
      "version": "3.9.12"
    },
    "colab": {
      "provenance": []
    },
    "accelerator": "GPU",
    "gpuClass": "standard"
  },
  "nbformat": 4,
  "nbformat_minor": 5
}